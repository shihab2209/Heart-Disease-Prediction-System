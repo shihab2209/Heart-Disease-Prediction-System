{
  "nbformat": 4,
  "nbformat_minor": 0,
  "metadata": {
    "colab": {
      "provenance": []
    },
    "kernelspec": {
      "name": "python3",
      "display_name": "Python 3"
    },
    "language_info": {
      "name": "python"
    }
  },
  "cells": [
    {
      "cell_type": "code",
      "execution_count": 1,
      "metadata": {
        "colab": {
          "base_uri": "https://localhost:8080/"
        },
        "id": "8qwoFiaWthWW",
        "outputId": "7935b427-c8a4-48c7-de17-9413081fa695"
      },
      "outputs": [
        {
          "output_type": "stream",
          "name": "stdout",
          "text": [
            "['.config', 'sample_data']\n"
          ]
        }
      ],
      "source": [
        "#importing libraries\n",
        "\n",
        "import pandas as pd\n",
        "import matplotlib.pyplot as plt\n",
        "import seaborn as sns\n",
        "import os\n",
        "print(os.listdir())\n",
        "import warnings\n",
        "warnings.filterwarnings('ignore')\n",
        "from sklearn.model_selection import train_test_split\n",
        "\n",
        "\n",
        "\n"
      ]
    },
    {
      "cell_type": "code",
      "source": [
        "#@title Default title text\n",
        "#importing dataset\n",
        "\n",
        "dataset = pd.read_csv(\"/content/heart1.csv\")\n",
        "\n",
        "type(dataset)\n",
        "\n"
      ],
      "metadata": {
        "colab": {
          "base_uri": "https://localhost:8080/"
        },
        "id": "Z04kYN0DudeT",
        "outputId": "a5723f19-2156-4e42-bc66-f138709c604d"
      },
      "execution_count": 3,
      "outputs": [
        {
          "output_type": "execute_result",
          "data": {
            "text/plain": [
              "pandas.core.frame.DataFrame"
            ]
          },
          "metadata": {},
          "execution_count": 3
        }
      ]
    },
    {
      "cell_type": "markdown",
      "source": [
        "# New Section"
      ],
      "metadata": {
        "id": "rNZn1NfmVT5Y"
      }
    },
    {
      "cell_type": "code",
      "source": [
        "#shape\n",
        "\n",
        "dataset.shape\n",
        "\n"
      ],
      "metadata": {
        "colab": {
          "base_uri": "https://localhost:8080/"
        },
        "id": "hgmmCghsvDrx",
        "outputId": "84e236b4-5f8a-4455-992b-0a5480f83c8a"
      },
      "execution_count": 4,
      "outputs": [
        {
          "output_type": "execute_result",
          "data": {
            "text/plain": [
              "(1025, 14)"
            ]
          },
          "metadata": {},
          "execution_count": 4
        }
      ]
    },
    {
      "cell_type": "code",
      "source": [
        "#printing first 5 columns\n",
        "\n",
        "dataset.head(5)"
      ],
      "metadata": {
        "colab": {
          "base_uri": "https://localhost:8080/",
          "height": 206
        },
        "id": "fvI8_hyUvym4",
        "outputId": "21d4a237-21c7-4cd7-b35d-167df779e069"
      },
      "execution_count": 5,
      "outputs": [
        {
          "output_type": "execute_result",
          "data": {
            "text/plain": [
              "   age  sex  cp  trestbps  chol  fbs  restecg  thalach  exang  oldpeak  slope  \\\n",
              "0   52    1   0       125   212    0        1      168      0      1.0      2   \n",
              "1   53    1   0       140   203    1        0      155      1      3.1      0   \n",
              "2   70    1   0       145   174    0        1      125      1      2.6      0   \n",
              "3   61    1   0       148   203    0        1      161      0      0.0      2   \n",
              "4   62    0   0       138   294    1        1      106      0      1.9      1   \n",
              "\n",
              "   ca  thal  target  \n",
              "0   2     3       0  \n",
              "1   0     3       0  \n",
              "2   0     3       0  \n",
              "3   1     3       0  \n",
              "4   3     2       0  "
            ],
            "text/html": [
              "\n",
              "  <div id=\"df-ca2bbf70-c734-4eab-a4bf-d3b345c25cc2\">\n",
              "    <div class=\"colab-df-container\">\n",
              "      <div>\n",
              "<style scoped>\n",
              "    .dataframe tbody tr th:only-of-type {\n",
              "        vertical-align: middle;\n",
              "    }\n",
              "\n",
              "    .dataframe tbody tr th {\n",
              "        vertical-align: top;\n",
              "    }\n",
              "\n",
              "    .dataframe thead th {\n",
              "        text-align: right;\n",
              "    }\n",
              "</style>\n",
              "<table border=\"1\" class=\"dataframe\">\n",
              "  <thead>\n",
              "    <tr style=\"text-align: right;\">\n",
              "      <th></th>\n",
              "      <th>age</th>\n",
              "      <th>sex</th>\n",
              "      <th>cp</th>\n",
              "      <th>trestbps</th>\n",
              "      <th>chol</th>\n",
              "      <th>fbs</th>\n",
              "      <th>restecg</th>\n",
              "      <th>thalach</th>\n",
              "      <th>exang</th>\n",
              "      <th>oldpeak</th>\n",
              "      <th>slope</th>\n",
              "      <th>ca</th>\n",
              "      <th>thal</th>\n",
              "      <th>target</th>\n",
              "    </tr>\n",
              "  </thead>\n",
              "  <tbody>\n",
              "    <tr>\n",
              "      <th>0</th>\n",
              "      <td>52</td>\n",
              "      <td>1</td>\n",
              "      <td>0</td>\n",
              "      <td>125</td>\n",
              "      <td>212</td>\n",
              "      <td>0</td>\n",
              "      <td>1</td>\n",
              "      <td>168</td>\n",
              "      <td>0</td>\n",
              "      <td>1.0</td>\n",
              "      <td>2</td>\n",
              "      <td>2</td>\n",
              "      <td>3</td>\n",
              "      <td>0</td>\n",
              "    </tr>\n",
              "    <tr>\n",
              "      <th>1</th>\n",
              "      <td>53</td>\n",
              "      <td>1</td>\n",
              "      <td>0</td>\n",
              "      <td>140</td>\n",
              "      <td>203</td>\n",
              "      <td>1</td>\n",
              "      <td>0</td>\n",
              "      <td>155</td>\n",
              "      <td>1</td>\n",
              "      <td>3.1</td>\n",
              "      <td>0</td>\n",
              "      <td>0</td>\n",
              "      <td>3</td>\n",
              "      <td>0</td>\n",
              "    </tr>\n",
              "    <tr>\n",
              "      <th>2</th>\n",
              "      <td>70</td>\n",
              "      <td>1</td>\n",
              "      <td>0</td>\n",
              "      <td>145</td>\n",
              "      <td>174</td>\n",
              "      <td>0</td>\n",
              "      <td>1</td>\n",
              "      <td>125</td>\n",
              "      <td>1</td>\n",
              "      <td>2.6</td>\n",
              "      <td>0</td>\n",
              "      <td>0</td>\n",
              "      <td>3</td>\n",
              "      <td>0</td>\n",
              "    </tr>\n",
              "    <tr>\n",
              "      <th>3</th>\n",
              "      <td>61</td>\n",
              "      <td>1</td>\n",
              "      <td>0</td>\n",
              "      <td>148</td>\n",
              "      <td>203</td>\n",
              "      <td>0</td>\n",
              "      <td>1</td>\n",
              "      <td>161</td>\n",
              "      <td>0</td>\n",
              "      <td>0.0</td>\n",
              "      <td>2</td>\n",
              "      <td>1</td>\n",
              "      <td>3</td>\n",
              "      <td>0</td>\n",
              "    </tr>\n",
              "    <tr>\n",
              "      <th>4</th>\n",
              "      <td>62</td>\n",
              "      <td>0</td>\n",
              "      <td>0</td>\n",
              "      <td>138</td>\n",
              "      <td>294</td>\n",
              "      <td>1</td>\n",
              "      <td>1</td>\n",
              "      <td>106</td>\n",
              "      <td>0</td>\n",
              "      <td>1.9</td>\n",
              "      <td>1</td>\n",
              "      <td>3</td>\n",
              "      <td>2</td>\n",
              "      <td>0</td>\n",
              "    </tr>\n",
              "  </tbody>\n",
              "</table>\n",
              "</div>\n",
              "      <button class=\"colab-df-convert\" onclick=\"convertToInteractive('df-ca2bbf70-c734-4eab-a4bf-d3b345c25cc2')\"\n",
              "              title=\"Convert this dataframe to an interactive table.\"\n",
              "              style=\"display:none;\">\n",
              "        \n",
              "  <svg xmlns=\"http://www.w3.org/2000/svg\" height=\"24px\"viewBox=\"0 0 24 24\"\n",
              "       width=\"24px\">\n",
              "    <path d=\"M0 0h24v24H0V0z\" fill=\"none\"/>\n",
              "    <path d=\"M18.56 5.44l.94 2.06.94-2.06 2.06-.94-2.06-.94-.94-2.06-.94 2.06-2.06.94zm-11 1L8.5 8.5l.94-2.06 2.06-.94-2.06-.94L8.5 2.5l-.94 2.06-2.06.94zm10 10l.94 2.06.94-2.06 2.06-.94-2.06-.94-.94-2.06-.94 2.06-2.06.94z\"/><path d=\"M17.41 7.96l-1.37-1.37c-.4-.4-.92-.59-1.43-.59-.52 0-1.04.2-1.43.59L10.3 9.45l-7.72 7.72c-.78.78-.78 2.05 0 2.83L4 21.41c.39.39.9.59 1.41.59.51 0 1.02-.2 1.41-.59l7.78-7.78 2.81-2.81c.8-.78.8-2.07 0-2.86zM5.41 20L4 18.59l7.72-7.72 1.47 1.35L5.41 20z\"/>\n",
              "  </svg>\n",
              "      </button>\n",
              "      \n",
              "  <style>\n",
              "    .colab-df-container {\n",
              "      display:flex;\n",
              "      flex-wrap:wrap;\n",
              "      gap: 12px;\n",
              "    }\n",
              "\n",
              "    .colab-df-convert {\n",
              "      background-color: #E8F0FE;\n",
              "      border: none;\n",
              "      border-radius: 50%;\n",
              "      cursor: pointer;\n",
              "      display: none;\n",
              "      fill: #1967D2;\n",
              "      height: 32px;\n",
              "      padding: 0 0 0 0;\n",
              "      width: 32px;\n",
              "    }\n",
              "\n",
              "    .colab-df-convert:hover {\n",
              "      background-color: #E2EBFA;\n",
              "      box-shadow: 0px 1px 2px rgba(60, 64, 67, 0.3), 0px 1px 3px 1px rgba(60, 64, 67, 0.15);\n",
              "      fill: #174EA6;\n",
              "    }\n",
              "\n",
              "    [theme=dark] .colab-df-convert {\n",
              "      background-color: #3B4455;\n",
              "      fill: #D2E3FC;\n",
              "    }\n",
              "\n",
              "    [theme=dark] .colab-df-convert:hover {\n",
              "      background-color: #434B5C;\n",
              "      box-shadow: 0px 1px 3px 1px rgba(0, 0, 0, 0.15);\n",
              "      filter: drop-shadow(0px 1px 2px rgba(0, 0, 0, 0.3));\n",
              "      fill: #FFFFFF;\n",
              "    }\n",
              "  </style>\n",
              "\n",
              "      <script>\n",
              "        const buttonEl =\n",
              "          document.querySelector('#df-ca2bbf70-c734-4eab-a4bf-d3b345c25cc2 button.colab-df-convert');\n",
              "        buttonEl.style.display =\n",
              "          google.colab.kernel.accessAllowed ? 'block' : 'none';\n",
              "\n",
              "        async function convertToInteractive(key) {\n",
              "          const element = document.querySelector('#df-ca2bbf70-c734-4eab-a4bf-d3b345c25cc2');\n",
              "          const dataTable =\n",
              "            await google.colab.kernel.invokeFunction('convertToInteractive',\n",
              "                                                     [key], {});\n",
              "          if (!dataTable) return;\n",
              "\n",
              "          const docLinkHtml = 'Like what you see? Visit the ' +\n",
              "            '<a target=\"_blank\" href=https://colab.research.google.com/notebooks/data_table.ipynb>data table notebook</a>'\n",
              "            + ' to learn more about interactive tables.';\n",
              "          element.innerHTML = '';\n",
              "          dataTable['output_type'] = 'display_data';\n",
              "          await google.colab.output.renderOutput(dataTable, element);\n",
              "          const docLink = document.createElement('div');\n",
              "          docLink.innerHTML = docLinkHtml;\n",
              "          element.appendChild(docLink);\n",
              "        }\n",
              "      </script>\n",
              "    </div>\n",
              "  </div>\n",
              "  "
            ]
          },
          "metadata": {},
          "execution_count": 5
        }
      ]
    },
    {
      "cell_type": "code",
      "source": [
        "#printing any 5 columns\n",
        "\n",
        "dataset.sample(5)\n"
      ],
      "metadata": {
        "colab": {
          "base_uri": "https://localhost:8080/",
          "height": 206
        },
        "id": "lEp9fcKUv_d6",
        "outputId": "af8ecbe5-ee63-46ac-c43d-53d64b0f2e2f"
      },
      "execution_count": 6,
      "outputs": [
        {
          "output_type": "execute_result",
          "data": {
            "text/plain": [
              "     age  sex  cp  trestbps  chol  fbs  restecg  thalach  exang  oldpeak  \\\n",
              "335   58    1   0       150   270    0        0      111      1      0.8   \n",
              "783   56    1   1       120   240    0        1      169      0      0.0   \n",
              "198   60    0   2       102   318    0        1      160      0      0.0   \n",
              "892   54    1   0       110   239    0        1      126      1      2.8   \n",
              "716   55    0   0       128   205    0        2      130      1      2.0   \n",
              "\n",
              "     slope  ca  thal  target  \n",
              "335      2   0     3       0  \n",
              "783      0   0     2       1  \n",
              "198      2   1     2       1  \n",
              "892      1   1     3       0  \n",
              "716      1   1     3       0  "
            ],
            "text/html": [
              "\n",
              "  <div id=\"df-3f7fd56c-de62-472b-ad27-0b724281ed13\">\n",
              "    <div class=\"colab-df-container\">\n",
              "      <div>\n",
              "<style scoped>\n",
              "    .dataframe tbody tr th:only-of-type {\n",
              "        vertical-align: middle;\n",
              "    }\n",
              "\n",
              "    .dataframe tbody tr th {\n",
              "        vertical-align: top;\n",
              "    }\n",
              "\n",
              "    .dataframe thead th {\n",
              "        text-align: right;\n",
              "    }\n",
              "</style>\n",
              "<table border=\"1\" class=\"dataframe\">\n",
              "  <thead>\n",
              "    <tr style=\"text-align: right;\">\n",
              "      <th></th>\n",
              "      <th>age</th>\n",
              "      <th>sex</th>\n",
              "      <th>cp</th>\n",
              "      <th>trestbps</th>\n",
              "      <th>chol</th>\n",
              "      <th>fbs</th>\n",
              "      <th>restecg</th>\n",
              "      <th>thalach</th>\n",
              "      <th>exang</th>\n",
              "      <th>oldpeak</th>\n",
              "      <th>slope</th>\n",
              "      <th>ca</th>\n",
              "      <th>thal</th>\n",
              "      <th>target</th>\n",
              "    </tr>\n",
              "  </thead>\n",
              "  <tbody>\n",
              "    <tr>\n",
              "      <th>335</th>\n",
              "      <td>58</td>\n",
              "      <td>1</td>\n",
              "      <td>0</td>\n",
              "      <td>150</td>\n",
              "      <td>270</td>\n",
              "      <td>0</td>\n",
              "      <td>0</td>\n",
              "      <td>111</td>\n",
              "      <td>1</td>\n",
              "      <td>0.8</td>\n",
              "      <td>2</td>\n",
              "      <td>0</td>\n",
              "      <td>3</td>\n",
              "      <td>0</td>\n",
              "    </tr>\n",
              "    <tr>\n",
              "      <th>783</th>\n",
              "      <td>56</td>\n",
              "      <td>1</td>\n",
              "      <td>1</td>\n",
              "      <td>120</td>\n",
              "      <td>240</td>\n",
              "      <td>0</td>\n",
              "      <td>1</td>\n",
              "      <td>169</td>\n",
              "      <td>0</td>\n",
              "      <td>0.0</td>\n",
              "      <td>0</td>\n",
              "      <td>0</td>\n",
              "      <td>2</td>\n",
              "      <td>1</td>\n",
              "    </tr>\n",
              "    <tr>\n",
              "      <th>198</th>\n",
              "      <td>60</td>\n",
              "      <td>0</td>\n",
              "      <td>2</td>\n",
              "      <td>102</td>\n",
              "      <td>318</td>\n",
              "      <td>0</td>\n",
              "      <td>1</td>\n",
              "      <td>160</td>\n",
              "      <td>0</td>\n",
              "      <td>0.0</td>\n",
              "      <td>2</td>\n",
              "      <td>1</td>\n",
              "      <td>2</td>\n",
              "      <td>1</td>\n",
              "    </tr>\n",
              "    <tr>\n",
              "      <th>892</th>\n",
              "      <td>54</td>\n",
              "      <td>1</td>\n",
              "      <td>0</td>\n",
              "      <td>110</td>\n",
              "      <td>239</td>\n",
              "      <td>0</td>\n",
              "      <td>1</td>\n",
              "      <td>126</td>\n",
              "      <td>1</td>\n",
              "      <td>2.8</td>\n",
              "      <td>1</td>\n",
              "      <td>1</td>\n",
              "      <td>3</td>\n",
              "      <td>0</td>\n",
              "    </tr>\n",
              "    <tr>\n",
              "      <th>716</th>\n",
              "      <td>55</td>\n",
              "      <td>0</td>\n",
              "      <td>0</td>\n",
              "      <td>128</td>\n",
              "      <td>205</td>\n",
              "      <td>0</td>\n",
              "      <td>2</td>\n",
              "      <td>130</td>\n",
              "      <td>1</td>\n",
              "      <td>2.0</td>\n",
              "      <td>1</td>\n",
              "      <td>1</td>\n",
              "      <td>3</td>\n",
              "      <td>0</td>\n",
              "    </tr>\n",
              "  </tbody>\n",
              "</table>\n",
              "</div>\n",
              "      <button class=\"colab-df-convert\" onclick=\"convertToInteractive('df-3f7fd56c-de62-472b-ad27-0b724281ed13')\"\n",
              "              title=\"Convert this dataframe to an interactive table.\"\n",
              "              style=\"display:none;\">\n",
              "        \n",
              "  <svg xmlns=\"http://www.w3.org/2000/svg\" height=\"24px\"viewBox=\"0 0 24 24\"\n",
              "       width=\"24px\">\n",
              "    <path d=\"M0 0h24v24H0V0z\" fill=\"none\"/>\n",
              "    <path d=\"M18.56 5.44l.94 2.06.94-2.06 2.06-.94-2.06-.94-.94-2.06-.94 2.06-2.06.94zm-11 1L8.5 8.5l.94-2.06 2.06-.94-2.06-.94L8.5 2.5l-.94 2.06-2.06.94zm10 10l.94 2.06.94-2.06 2.06-.94-2.06-.94-.94-2.06-.94 2.06-2.06.94z\"/><path d=\"M17.41 7.96l-1.37-1.37c-.4-.4-.92-.59-1.43-.59-.52 0-1.04.2-1.43.59L10.3 9.45l-7.72 7.72c-.78.78-.78 2.05 0 2.83L4 21.41c.39.39.9.59 1.41.59.51 0 1.02-.2 1.41-.59l7.78-7.78 2.81-2.81c.8-.78.8-2.07 0-2.86zM5.41 20L4 18.59l7.72-7.72 1.47 1.35L5.41 20z\"/>\n",
              "  </svg>\n",
              "      </button>\n",
              "      \n",
              "  <style>\n",
              "    .colab-df-container {\n",
              "      display:flex;\n",
              "      flex-wrap:wrap;\n",
              "      gap: 12px;\n",
              "    }\n",
              "\n",
              "    .colab-df-convert {\n",
              "      background-color: #E8F0FE;\n",
              "      border: none;\n",
              "      border-radius: 50%;\n",
              "      cursor: pointer;\n",
              "      display: none;\n",
              "      fill: #1967D2;\n",
              "      height: 32px;\n",
              "      padding: 0 0 0 0;\n",
              "      width: 32px;\n",
              "    }\n",
              "\n",
              "    .colab-df-convert:hover {\n",
              "      background-color: #E2EBFA;\n",
              "      box-shadow: 0px 1px 2px rgba(60, 64, 67, 0.3), 0px 1px 3px 1px rgba(60, 64, 67, 0.15);\n",
              "      fill: #174EA6;\n",
              "    }\n",
              "\n",
              "    [theme=dark] .colab-df-convert {\n",
              "      background-color: #3B4455;\n",
              "      fill: #D2E3FC;\n",
              "    }\n",
              "\n",
              "    [theme=dark] .colab-df-convert:hover {\n",
              "      background-color: #434B5C;\n",
              "      box-shadow: 0px 1px 3px 1px rgba(0, 0, 0, 0.15);\n",
              "      filter: drop-shadow(0px 1px 2px rgba(0, 0, 0, 0.3));\n",
              "      fill: #FFFFFF;\n",
              "    }\n",
              "  </style>\n",
              "\n",
              "      <script>\n",
              "        const buttonEl =\n",
              "          document.querySelector('#df-3f7fd56c-de62-472b-ad27-0b724281ed13 button.colab-df-convert');\n",
              "        buttonEl.style.display =\n",
              "          google.colab.kernel.accessAllowed ? 'block' : 'none';\n",
              "\n",
              "        async function convertToInteractive(key) {\n",
              "          const element = document.querySelector('#df-3f7fd56c-de62-472b-ad27-0b724281ed13');\n",
              "          const dataTable =\n",
              "            await google.colab.kernel.invokeFunction('convertToInteractive',\n",
              "                                                     [key], {});\n",
              "          if (!dataTable) return;\n",
              "\n",
              "          const docLinkHtml = 'Like what you see? Visit the ' +\n",
              "            '<a target=\"_blank\" href=https://colab.research.google.com/notebooks/data_table.ipynb>data table notebook</a>'\n",
              "            + ' to learn more about interactive tables.';\n",
              "          element.innerHTML = '';\n",
              "          dataTable['output_type'] = 'display_data';\n",
              "          await google.colab.output.renderOutput(dataTable, element);\n",
              "          const docLink = document.createElement('div');\n",
              "          docLink.innerHTML = docLinkHtml;\n",
              "          element.appendChild(docLink);\n",
              "        }\n",
              "      </script>\n",
              "    </div>\n",
              "  </div>\n",
              "  "
            ]
          },
          "metadata": {},
          "execution_count": 6
        }
      ]
    },
    {
      "cell_type": "code",
      "source": [
        "#description\n",
        "\n",
        "dataset.describe()\n",
        "\n"
      ],
      "metadata": {
        "colab": {
          "base_uri": "https://localhost:8080/",
          "height": 300
        },
        "id": "EJyRrAiQwV_B",
        "outputId": "5fe10bc9-b445-46ae-9fe0-a2ccec2105e5"
      },
      "execution_count": 7,
      "outputs": [
        {
          "output_type": "execute_result",
          "data": {
            "text/plain": [
              "               age          sex           cp     trestbps        chol  \\\n",
              "count  1025.000000  1025.000000  1025.000000  1025.000000  1025.00000   \n",
              "mean     54.434146     0.695610     0.942439   131.611707   246.00000   \n",
              "std       9.072290     0.460373     1.029641    17.516718    51.59251   \n",
              "min      29.000000     0.000000     0.000000    94.000000   126.00000   \n",
              "25%      48.000000     0.000000     0.000000   120.000000   211.00000   \n",
              "50%      56.000000     1.000000     1.000000   130.000000   240.00000   \n",
              "75%      61.000000     1.000000     2.000000   140.000000   275.00000   \n",
              "max      77.000000     1.000000     3.000000   200.000000   564.00000   \n",
              "\n",
              "               fbs      restecg      thalach        exang      oldpeak  \\\n",
              "count  1025.000000  1025.000000  1025.000000  1025.000000  1025.000000   \n",
              "mean      0.149268     0.529756   149.114146     0.336585     1.071512   \n",
              "std       0.356527     0.527878    23.005724     0.472772     1.175053   \n",
              "min       0.000000     0.000000    71.000000     0.000000     0.000000   \n",
              "25%       0.000000     0.000000   132.000000     0.000000     0.000000   \n",
              "50%       0.000000     1.000000   152.000000     0.000000     0.800000   \n",
              "75%       0.000000     1.000000   166.000000     1.000000     1.800000   \n",
              "max       1.000000     2.000000   202.000000     1.000000     6.200000   \n",
              "\n",
              "             slope           ca         thal       target  \n",
              "count  1025.000000  1025.000000  1025.000000  1025.000000  \n",
              "mean      1.385366     0.754146     2.323902     0.513171  \n",
              "std       0.617755     1.030798     0.620660     0.500070  \n",
              "min       0.000000     0.000000     0.000000     0.000000  \n",
              "25%       1.000000     0.000000     2.000000     0.000000  \n",
              "50%       1.000000     0.000000     2.000000     1.000000  \n",
              "75%       2.000000     1.000000     3.000000     1.000000  \n",
              "max       2.000000     4.000000     3.000000     1.000000  "
            ],
            "text/html": [
              "\n",
              "  <div id=\"df-8e28f4f4-ae05-441b-a31f-c9cfbbf68b76\">\n",
              "    <div class=\"colab-df-container\">\n",
              "      <div>\n",
              "<style scoped>\n",
              "    .dataframe tbody tr th:only-of-type {\n",
              "        vertical-align: middle;\n",
              "    }\n",
              "\n",
              "    .dataframe tbody tr th {\n",
              "        vertical-align: top;\n",
              "    }\n",
              "\n",
              "    .dataframe thead th {\n",
              "        text-align: right;\n",
              "    }\n",
              "</style>\n",
              "<table border=\"1\" class=\"dataframe\">\n",
              "  <thead>\n",
              "    <tr style=\"text-align: right;\">\n",
              "      <th></th>\n",
              "      <th>age</th>\n",
              "      <th>sex</th>\n",
              "      <th>cp</th>\n",
              "      <th>trestbps</th>\n",
              "      <th>chol</th>\n",
              "      <th>fbs</th>\n",
              "      <th>restecg</th>\n",
              "      <th>thalach</th>\n",
              "      <th>exang</th>\n",
              "      <th>oldpeak</th>\n",
              "      <th>slope</th>\n",
              "      <th>ca</th>\n",
              "      <th>thal</th>\n",
              "      <th>target</th>\n",
              "    </tr>\n",
              "  </thead>\n",
              "  <tbody>\n",
              "    <tr>\n",
              "      <th>count</th>\n",
              "      <td>1025.000000</td>\n",
              "      <td>1025.000000</td>\n",
              "      <td>1025.000000</td>\n",
              "      <td>1025.000000</td>\n",
              "      <td>1025.00000</td>\n",
              "      <td>1025.000000</td>\n",
              "      <td>1025.000000</td>\n",
              "      <td>1025.000000</td>\n",
              "      <td>1025.000000</td>\n",
              "      <td>1025.000000</td>\n",
              "      <td>1025.000000</td>\n",
              "      <td>1025.000000</td>\n",
              "      <td>1025.000000</td>\n",
              "      <td>1025.000000</td>\n",
              "    </tr>\n",
              "    <tr>\n",
              "      <th>mean</th>\n",
              "      <td>54.434146</td>\n",
              "      <td>0.695610</td>\n",
              "      <td>0.942439</td>\n",
              "      <td>131.611707</td>\n",
              "      <td>246.00000</td>\n",
              "      <td>0.149268</td>\n",
              "      <td>0.529756</td>\n",
              "      <td>149.114146</td>\n",
              "      <td>0.336585</td>\n",
              "      <td>1.071512</td>\n",
              "      <td>1.385366</td>\n",
              "      <td>0.754146</td>\n",
              "      <td>2.323902</td>\n",
              "      <td>0.513171</td>\n",
              "    </tr>\n",
              "    <tr>\n",
              "      <th>std</th>\n",
              "      <td>9.072290</td>\n",
              "      <td>0.460373</td>\n",
              "      <td>1.029641</td>\n",
              "      <td>17.516718</td>\n",
              "      <td>51.59251</td>\n",
              "      <td>0.356527</td>\n",
              "      <td>0.527878</td>\n",
              "      <td>23.005724</td>\n",
              "      <td>0.472772</td>\n",
              "      <td>1.175053</td>\n",
              "      <td>0.617755</td>\n",
              "      <td>1.030798</td>\n",
              "      <td>0.620660</td>\n",
              "      <td>0.500070</td>\n",
              "    </tr>\n",
              "    <tr>\n",
              "      <th>min</th>\n",
              "      <td>29.000000</td>\n",
              "      <td>0.000000</td>\n",
              "      <td>0.000000</td>\n",
              "      <td>94.000000</td>\n",
              "      <td>126.00000</td>\n",
              "      <td>0.000000</td>\n",
              "      <td>0.000000</td>\n",
              "      <td>71.000000</td>\n",
              "      <td>0.000000</td>\n",
              "      <td>0.000000</td>\n",
              "      <td>0.000000</td>\n",
              "      <td>0.000000</td>\n",
              "      <td>0.000000</td>\n",
              "      <td>0.000000</td>\n",
              "    </tr>\n",
              "    <tr>\n",
              "      <th>25%</th>\n",
              "      <td>48.000000</td>\n",
              "      <td>0.000000</td>\n",
              "      <td>0.000000</td>\n",
              "      <td>120.000000</td>\n",
              "      <td>211.00000</td>\n",
              "      <td>0.000000</td>\n",
              "      <td>0.000000</td>\n",
              "      <td>132.000000</td>\n",
              "      <td>0.000000</td>\n",
              "      <td>0.000000</td>\n",
              "      <td>1.000000</td>\n",
              "      <td>0.000000</td>\n",
              "      <td>2.000000</td>\n",
              "      <td>0.000000</td>\n",
              "    </tr>\n",
              "    <tr>\n",
              "      <th>50%</th>\n",
              "      <td>56.000000</td>\n",
              "      <td>1.000000</td>\n",
              "      <td>1.000000</td>\n",
              "      <td>130.000000</td>\n",
              "      <td>240.00000</td>\n",
              "      <td>0.000000</td>\n",
              "      <td>1.000000</td>\n",
              "      <td>152.000000</td>\n",
              "      <td>0.000000</td>\n",
              "      <td>0.800000</td>\n",
              "      <td>1.000000</td>\n",
              "      <td>0.000000</td>\n",
              "      <td>2.000000</td>\n",
              "      <td>1.000000</td>\n",
              "    </tr>\n",
              "    <tr>\n",
              "      <th>75%</th>\n",
              "      <td>61.000000</td>\n",
              "      <td>1.000000</td>\n",
              "      <td>2.000000</td>\n",
              "      <td>140.000000</td>\n",
              "      <td>275.00000</td>\n",
              "      <td>0.000000</td>\n",
              "      <td>1.000000</td>\n",
              "      <td>166.000000</td>\n",
              "      <td>1.000000</td>\n",
              "      <td>1.800000</td>\n",
              "      <td>2.000000</td>\n",
              "      <td>1.000000</td>\n",
              "      <td>3.000000</td>\n",
              "      <td>1.000000</td>\n",
              "    </tr>\n",
              "    <tr>\n",
              "      <th>max</th>\n",
              "      <td>77.000000</td>\n",
              "      <td>1.000000</td>\n",
              "      <td>3.000000</td>\n",
              "      <td>200.000000</td>\n",
              "      <td>564.00000</td>\n",
              "      <td>1.000000</td>\n",
              "      <td>2.000000</td>\n",
              "      <td>202.000000</td>\n",
              "      <td>1.000000</td>\n",
              "      <td>6.200000</td>\n",
              "      <td>2.000000</td>\n",
              "      <td>4.000000</td>\n",
              "      <td>3.000000</td>\n",
              "      <td>1.000000</td>\n",
              "    </tr>\n",
              "  </tbody>\n",
              "</table>\n",
              "</div>\n",
              "      <button class=\"colab-df-convert\" onclick=\"convertToInteractive('df-8e28f4f4-ae05-441b-a31f-c9cfbbf68b76')\"\n",
              "              title=\"Convert this dataframe to an interactive table.\"\n",
              "              style=\"display:none;\">\n",
              "        \n",
              "  <svg xmlns=\"http://www.w3.org/2000/svg\" height=\"24px\"viewBox=\"0 0 24 24\"\n",
              "       width=\"24px\">\n",
              "    <path d=\"M0 0h24v24H0V0z\" fill=\"none\"/>\n",
              "    <path d=\"M18.56 5.44l.94 2.06.94-2.06 2.06-.94-2.06-.94-.94-2.06-.94 2.06-2.06.94zm-11 1L8.5 8.5l.94-2.06 2.06-.94-2.06-.94L8.5 2.5l-.94 2.06-2.06.94zm10 10l.94 2.06.94-2.06 2.06-.94-2.06-.94-.94-2.06-.94 2.06-2.06.94z\"/><path d=\"M17.41 7.96l-1.37-1.37c-.4-.4-.92-.59-1.43-.59-.52 0-1.04.2-1.43.59L10.3 9.45l-7.72 7.72c-.78.78-.78 2.05 0 2.83L4 21.41c.39.39.9.59 1.41.59.51 0 1.02-.2 1.41-.59l7.78-7.78 2.81-2.81c.8-.78.8-2.07 0-2.86zM5.41 20L4 18.59l7.72-7.72 1.47 1.35L5.41 20z\"/>\n",
              "  </svg>\n",
              "      </button>\n",
              "      \n",
              "  <style>\n",
              "    .colab-df-container {\n",
              "      display:flex;\n",
              "      flex-wrap:wrap;\n",
              "      gap: 12px;\n",
              "    }\n",
              "\n",
              "    .colab-df-convert {\n",
              "      background-color: #E8F0FE;\n",
              "      border: none;\n",
              "      border-radius: 50%;\n",
              "      cursor: pointer;\n",
              "      display: none;\n",
              "      fill: #1967D2;\n",
              "      height: 32px;\n",
              "      padding: 0 0 0 0;\n",
              "      width: 32px;\n",
              "    }\n",
              "\n",
              "    .colab-df-convert:hover {\n",
              "      background-color: #E2EBFA;\n",
              "      box-shadow: 0px 1px 2px rgba(60, 64, 67, 0.3), 0px 1px 3px 1px rgba(60, 64, 67, 0.15);\n",
              "      fill: #174EA6;\n",
              "    }\n",
              "\n",
              "    [theme=dark] .colab-df-convert {\n",
              "      background-color: #3B4455;\n",
              "      fill: #D2E3FC;\n",
              "    }\n",
              "\n",
              "    [theme=dark] .colab-df-convert:hover {\n",
              "      background-color: #434B5C;\n",
              "      box-shadow: 0px 1px 3px 1px rgba(0, 0, 0, 0.15);\n",
              "      filter: drop-shadow(0px 1px 2px rgba(0, 0, 0, 0.3));\n",
              "      fill: #FFFFFF;\n",
              "    }\n",
              "  </style>\n",
              "\n",
              "      <script>\n",
              "        const buttonEl =\n",
              "          document.querySelector('#df-8e28f4f4-ae05-441b-a31f-c9cfbbf68b76 button.colab-df-convert');\n",
              "        buttonEl.style.display =\n",
              "          google.colab.kernel.accessAllowed ? 'block' : 'none';\n",
              "\n",
              "        async function convertToInteractive(key) {\n",
              "          const element = document.querySelector('#df-8e28f4f4-ae05-441b-a31f-c9cfbbf68b76');\n",
              "          const dataTable =\n",
              "            await google.colab.kernel.invokeFunction('convertToInteractive',\n",
              "                                                     [key], {});\n",
              "          if (!dataTable) return;\n",
              "\n",
              "          const docLinkHtml = 'Like what you see? Visit the ' +\n",
              "            '<a target=\"_blank\" href=https://colab.research.google.com/notebooks/data_table.ipynb>data table notebook</a>'\n",
              "            + ' to learn more about interactive tables.';\n",
              "          element.innerHTML = '';\n",
              "          dataTable['output_type'] = 'display_data';\n",
              "          await google.colab.output.renderOutput(dataTable, element);\n",
              "          const docLink = document.createElement('div');\n",
              "          docLink.innerHTML = docLinkHtml;\n",
              "          element.appendChild(docLink);\n",
              "        }\n",
              "      </script>\n",
              "    </div>\n",
              "  </div>\n",
              "  "
            ]
          },
          "metadata": {},
          "execution_count": 7
        }
      ]
    },
    {
      "cell_type": "code",
      "source": [
        "dataset.info()"
      ],
      "metadata": {
        "colab": {
          "base_uri": "https://localhost:8080/"
        },
        "id": "Y6714RqlwkK5",
        "outputId": "465381ae-0563-42de-9d29-4185ff612088"
      },
      "execution_count": 8,
      "outputs": [
        {
          "output_type": "stream",
          "name": "stdout",
          "text": [
            "<class 'pandas.core.frame.DataFrame'>\n",
            "RangeIndex: 1025 entries, 0 to 1024\n",
            "Data columns (total 14 columns):\n",
            " #   Column    Non-Null Count  Dtype  \n",
            "---  ------    --------------  -----  \n",
            " 0   age       1025 non-null   int64  \n",
            " 1   sex       1025 non-null   int64  \n",
            " 2   cp        1025 non-null   int64  \n",
            " 3   trestbps  1025 non-null   int64  \n",
            " 4   chol      1025 non-null   int64  \n",
            " 5   fbs       1025 non-null   int64  \n",
            " 6   restecg   1025 non-null   int64  \n",
            " 7   thalach   1025 non-null   int64  \n",
            " 8   exang     1025 non-null   int64  \n",
            " 9   oldpeak   1025 non-null   float64\n",
            " 10  slope     1025 non-null   int64  \n",
            " 11  ca        1025 non-null   int64  \n",
            " 12  thal      1025 non-null   int64  \n",
            " 13  target    1025 non-null   int64  \n",
            "dtypes: float64(1), int64(13)\n",
            "memory usage: 112.2 KB\n"
          ]
        }
      ]
    },
    {
      "cell_type": "code",
      "source": [
        "info = [\"age\",\"1: male, 0: female\",\"chest pain type, 1: typical angina, 2: atypical angina, 3: non-anginal pain, 4: asymptomatic\",\"resting blood pressure\",\" serum cholestoral in mg/dl\",\"fasting blood sugar > 120 mg/dl\",\"resting electrocardiographic results (values 0,1,2)\",\" maximum heart rate achieved\",\"exercise induced angina\",\"oldpeak = ST depression induced by exercise relative to rest\",\"the slope of the peak exercise ST segment\",\"number of major vessels (0-3) colored by flourosopy\",\"thal: 3 = normal; 6 = fixed defect; 7 = reversable defect\"]\n",
        "\n",
        "\n",
        "\n",
        "for i in range(len(info)):\n",
        "    print(dataset.columns[i]+\":\\t\\t\\t\"+info[i])"
      ],
      "metadata": {
        "colab": {
          "base_uri": "https://localhost:8080/"
        },
        "id": "g7AbM-Cs0HNc",
        "outputId": "967b6e7a-3192-4a89-88f0-da4e4c5e9bda"
      },
      "execution_count": 9,
      "outputs": [
        {
          "output_type": "stream",
          "name": "stdout",
          "text": [
            "age:\t\t\tage\n",
            "sex:\t\t\t1: male, 0: female\n",
            "cp:\t\t\tchest pain type, 1: typical angina, 2: atypical angina, 3: non-anginal pain, 4: asymptomatic\n",
            "trestbps:\t\t\tresting blood pressure\n",
            "chol:\t\t\t serum cholestoral in mg/dl\n",
            "fbs:\t\t\tfasting blood sugar > 120 mg/dl\n",
            "restecg:\t\t\tresting electrocardiographic results (values 0,1,2)\n",
            "thalach:\t\t\t maximum heart rate achieved\n",
            "exang:\t\t\texercise induced angina\n",
            "oldpeak:\t\t\toldpeak = ST depression induced by exercise relative to rest\n",
            "slope:\t\t\tthe slope of the peak exercise ST segment\n",
            "ca:\t\t\tnumber of major vessels (0-3) colored by flourosopy\n",
            "thal:\t\t\tthal: 3 = normal; 6 = fixed defect; 7 = reversable defect\n"
          ]
        }
      ]
    },
    {
      "cell_type": "code",
      "source": [
        "#analysing\n",
        "\n",
        "dataset[\"target\"].describe()"
      ],
      "metadata": {
        "colab": {
          "base_uri": "https://localhost:8080/"
        },
        "id": "I8s9-AAk0Rm2",
        "outputId": "dc0bbf16-f301-4714-a344-827ecc9be1bb"
      },
      "execution_count": 10,
      "outputs": [
        {
          "output_type": "execute_result",
          "data": {
            "text/plain": [
              "count    1025.000000\n",
              "mean        0.513171\n",
              "std         0.500070\n",
              "min         0.000000\n",
              "25%         0.000000\n",
              "50%         1.000000\n",
              "75%         1.000000\n",
              "max         1.000000\n",
              "Name: target, dtype: float64"
            ]
          },
          "metadata": {},
          "execution_count": 10
        }
      ]
    },
    {
      "cell_type": "code",
      "source": [
        "#it is a classification problem\n",
        "\n",
        "#checking correlation\n",
        "\n",
        "print(dataset.corr()[\"target\"].abs().sort_values(ascending=False))\n"
      ],
      "metadata": {
        "colab": {
          "base_uri": "https://localhost:8080/"
        },
        "id": "5yxwqN3p0ZdS",
        "outputId": "bac6b7c2-9a95-480a-cb20-dbacd935089d"
      },
      "execution_count": 11,
      "outputs": [
        {
          "output_type": "stream",
          "name": "stdout",
          "text": [
            "target      1.000000\n",
            "oldpeak     0.438441\n",
            "exang       0.438029\n",
            "cp          0.434854\n",
            "thalach     0.422895\n",
            "ca          0.382085\n",
            "slope       0.345512\n",
            "thal        0.337838\n",
            "sex         0.279501\n",
            "age         0.229324\n",
            "trestbps    0.138772\n",
            "restecg     0.134468\n",
            "chol        0.099966\n",
            "fbs         0.041164\n",
            "Name: target, dtype: float64\n"
          ]
        }
      ]
    },
    {
      "cell_type": "code",
      "source": [
        "#fbs weakly correlated\n",
        "\n",
        "y = dataset[\"target\"]\n",
        "\n",
        "sns.countplot(y)\n"
      ],
      "metadata": {
        "colab": {
          "base_uri": "https://localhost:8080/",
          "height": 296
        },
        "id": "yEICD_fo0kqx",
        "outputId": "12c0be90-4d7d-4575-8650-10035cade062"
      },
      "execution_count": 12,
      "outputs": [
        {
          "output_type": "execute_result",
          "data": {
            "text/plain": [
              "<matplotlib.axes._subplots.AxesSubplot at 0x7fa5e628b9a0>"
            ]
          },
          "metadata": {},
          "execution_count": 12
        },
        {
          "output_type": "display_data",
          "data": {
            "text/plain": [
              "<Figure size 432x288 with 1 Axes>"
            ],
            "image/png": "[encoded data removed]"
          },
          "metadata": {
            "needs_background": "light"
          }
        }
      ]
    },
    {
      "cell_type": "code",
      "source": [
        "#analyzing target variable\n",
        "\n",
        "y = dataset[\"target\"]\n",
        "\n",
        "sns.countplot(y)\n",
        "\n",
        "\n",
        "target_temp = dataset.target.value_counts()\n",
        "\n",
        "print(target_temp)"
      ],
      "metadata": {
        "colab": {
          "base_uri": "https://localhost:8080/",
          "height": 331
        },
        "id": "3RUbFCYE063_",
        "outputId": "5136cc8f-d945-45c9-bdc7-1269f4836600"
      },
      "execution_count": 13,
      "outputs": [
        {
          "output_type": "stream",
          "name": "stdout",
          "text": [
            "1    526\n",
            "0    499\n",
            "Name: target, dtype: int64\n"
          ]
        },
        {
          "output_type": "display_data",
          "data": {
            "text/plain": [
              "<Figure size 432x288 with 1 Axes>"
            ],
            "image/png": "[encoded data removed]"
          },
          "metadata": {
            "needs_background": "light"
          }
        }
      ]
    },
    {
      "cell_type": "code",
      "source": [
        "print(\"Percentage of patience without heart problems: \"+str(round(target_temp[0]*100/303,2)))\n",
        "print(\"Percentage of patience with heart problems: \"+str(round(target_temp[1]*100/303,2)))\n"
      ],
      "metadata": {
        "colab": {
          "base_uri": "https://localhost:8080/"
        },
        "id": "K9iRE0UC1IhN",
        "outputId": "27ac6125-a5dd-4d78-ed90-c5444e932cb8"
      },
      "execution_count": 14,
      "outputs": [
        {
          "output_type": "stream",
          "name": "stdout",
          "text": [
            "Percentage of patience without heart problems: 164.69\n",
            "Percentage of patience with heart problems: 173.6\n"
          ]
        }
      ]
    },
    {
      "cell_type": "code",
      "source": [
        "#analysing \"sex\" feature\n",
        "\n",
        "dataset[\"sex\"].unique()"
      ],
      "metadata": {
        "colab": {
          "base_uri": "https://localhost:8080/"
        },
        "id": "uOJXOS8d1PZE",
        "outputId": "49add2ef-c6b9-4b35-e2b6-cd8c217e3e1c"
      },
      "execution_count": 15,
      "outputs": [
        {
          "output_type": "execute_result",
          "data": {
            "text/plain": [
              "array([1, 0])"
            ]
          },
          "metadata": {},
          "execution_count": 15
        }
      ]
    },
    {
      "cell_type": "code",
      "source": [
        "#2 unique features\n",
        "\n",
        "#females are more likely to have heart problems than male\n",
        "\n",
        "sns.barplot(dataset[\"sex\"],y)"
      ],
      "metadata": {
        "colab": {
          "base_uri": "https://localhost:8080/",
          "height": 297
        },
        "id": "FpUULr_F1bq5",
        "outputId": "06a66d29-ac01-4c38-e0b9-c3a755012ebb"
      },
      "execution_count": 16,
      "outputs": [
        {
          "output_type": "execute_result",
          "data": {
            "text/plain": [
              "<matplotlib.axes._subplots.AxesSubplot at 0x7fa5e5cf64c0>"
            ]
          },
          "metadata": {},
          "execution_count": 16
        },
        {
          "output_type": "display_data",
          "data": {
            "text/plain": [
              "<Figure size 432x288 with 1 Axes>"
            ],
            "image/png": "[encoded data removed]"
          },
          "metadata": {
            "needs_background": "light"
          }
        }
      ]
    },
    {
      "cell_type": "code",
      "source": [
        "#analysing \"chest pain type\" feature\n",
        "\n",
        "dataset[\"cp\"].unique()\n"
      ],
      "metadata": {
        "colab": {
          "base_uri": "https://localhost:8080/"
        },
        "id": "SGUZlcKi1mrU",
        "outputId": "3281141c-06a6-499b-e3e9-762ffc6f2da3"
      },
      "execution_count": 17,
      "outputs": [
        {
          "output_type": "execute_result",
          "data": {
            "text/plain": [
              "array([0, 1, 2, 3])"
            ]
          },
          "metadata": {},
          "execution_count": 17
        }
      ]
    },
    {
      "cell_type": "code",
      "source": [
        "#has values from 0 to 3\n",
        "\n",
        "# CP of \"0\" that is typical angina are much less likely to have heart problems\n",
        "\n",
        "sns.barplot(dataset[\"cp\"],y)"
      ],
      "metadata": {
        "colab": {
          "base_uri": "https://localhost:8080/",
          "height": 296
        },
        "id": "SXqGz7mJ14Ac",
        "outputId": "6302d101-f6d2-458d-c155-6e6cf0e3305c"
      },
      "execution_count": 18,
      "outputs": [
        {
          "output_type": "execute_result",
          "data": {
            "text/plain": [
              "<matplotlib.axes._subplots.AxesSubplot at 0x7fa5e61dd430>"
            ]
          },
          "metadata": {},
          "execution_count": 18
        },
        {
          "output_type": "display_data",
          "data": {
            "text/plain": [
              "<Figure size 432x288 with 1 Axes>"
            ],
            "image/png": "[encoded data removed]"
          },
          "metadata": {
            "needs_background": "light"
          }
        }
      ]
    },
    {
      "cell_type": "code",
      "source": [
        "#analysing \"FBS\" feature\n",
        "\n",
        "dataset[\"fbs\"].describe()\n"
      ],
      "metadata": {
        "colab": {
          "base_uri": "https://localhost:8080/"
        },
        "id": "8A-fdtZ-2oSg",
        "outputId": "3b6c47b5-244b-4f57-fb2d-aa38bb998773"
      },
      "execution_count": 19,
      "outputs": [
        {
          "output_type": "execute_result",
          "data": {
            "text/plain": [
              "count    1025.000000\n",
              "mean        0.149268\n",
              "std         0.356527\n",
              "min         0.000000\n",
              "25%         0.000000\n",
              "50%         0.000000\n",
              "75%         0.000000\n",
              "max         1.000000\n",
              "Name: fbs, dtype: float64"
            ]
          },
          "metadata": {},
          "execution_count": 19
        }
      ]
    },
    {
      "cell_type": "code",
      "source": [
        "dataset[\"fbs\"].unique()"
      ],
      "metadata": {
        "colab": {
          "base_uri": "https://localhost:8080/"
        },
        "id": "qdqqZDaE2yXY",
        "outputId": "cff29282-b277-4328-a2b1-cb5603ceae68"
      },
      "execution_count": 20,
      "outputs": [
        {
          "output_type": "execute_result",
          "data": {
            "text/plain": [
              "array([0, 1])"
            ]
          },
          "metadata": {},
          "execution_count": 20
        }
      ]
    },
    {
      "cell_type": "code",
      "source": [
        "sns.barplot(dataset[\"fbs\"],y)"
      ],
      "metadata": {
        "colab": {
          "base_uri": "https://localhost:8080/",
          "height": 296
        },
        "id": "u0iq49fM225D",
        "outputId": "d8460c76-0e92-45c2-d78e-832e8b52564f"
      },
      "execution_count": 21,
      "outputs": [
        {
          "output_type": "execute_result",
          "data": {
            "text/plain": [
              "<matplotlib.axes._subplots.AxesSubplot at 0x7fa5e5c69970>"
            ]
          },
          "metadata": {},
          "execution_count": 21
        },
        {
          "output_type": "display_data",
          "data": {
            "text/plain": [
              "<Figure size 432x288 with 1 Axes>"
            ],
            "image/png": "[encoded data removed]"
          },
          "metadata": {
            "needs_background": "light"
          }
        }
      ]
    },
    {
      "cell_type": "code",
      "source": [
        "#analysing \"restecg\" feature\n",
        "\n",
        "dataset[\"restecg\"].unique()"
      ],
      "metadata": {
        "colab": {
          "base_uri": "https://localhost:8080/"
        },
        "id": "OoNpfJ5926tg",
        "outputId": "54de2960-3331-4d55-dfe7-29d7ee11e82e"
      },
      "execution_count": 22,
      "outputs": [
        {
          "output_type": "execute_result",
          "data": {
            "text/plain": [
              "array([1, 0, 2])"
            ]
          },
          "metadata": {},
          "execution_count": 22
        }
      ]
    },
    {
      "cell_type": "code",
      "source": [
        "sns.barplot(dataset[\"restecg\"],y)\n",
        "\n",
        "#people with R 1 and 0 are much more likely to have heart desease than R 2"
      ],
      "metadata": {
        "colab": {
          "base_uri": "https://localhost:8080/",
          "height": 296
        },
        "id": "bWX0O1H_3HEt",
        "outputId": "2dbacd69-3a14-4c90-9f66-4bfed5abb355"
      },
      "execution_count": 23,
      "outputs": [
        {
          "output_type": "execute_result",
          "data": {
            "text/plain": [
              "<matplotlib.axes._subplots.AxesSubplot at 0x7fa5e5c3beb0>"
            ]
          },
          "metadata": {},
          "execution_count": 23
        },
        {
          "output_type": "display_data",
          "data": {
            "text/plain": [
              "<Figure size 432x288 with 1 Axes>"
            ],
            "image/png": "[encoded data removed]"
          },
          "metadata": {
            "needs_background": "light"
          }
        }
      ]
    },
    {
      "cell_type": "code",
      "source": [
        "#analysing \"exang\" feature\n",
        "\n",
        "dataset[\"exang\"].unique()"
      ],
      "metadata": {
        "colab": {
          "base_uri": "https://localhost:8080/"
        },
        "id": "fge1FemG3aEY",
        "outputId": "292a2313-b964-4f58-fa79-c2c1d374ac44"
      },
      "execution_count": 24,
      "outputs": [
        {
          "output_type": "execute_result",
          "data": {
            "text/plain": [
              "array([0, 1])"
            ]
          },
          "metadata": {},
          "execution_count": 24
        }
      ]
    },
    {
      "cell_type": "code",
      "source": [
        "sns.barplot(dataset[\"exang\"],y)\n",
        "\n",
        "#people with E1, that is exercise induced angina are much less likely to have heart problems"
      ],
      "metadata": {
        "colab": {
          "base_uri": "https://localhost:8080/",
          "height": 296
        },
        "id": "Hlm0TDn73fP0",
        "outputId": "8e8ed6a9-0aae-4407-9c3b-5257e372d8ed"
      },
      "execution_count": 25,
      "outputs": [
        {
          "output_type": "execute_result",
          "data": {
            "text/plain": [
              "<matplotlib.axes._subplots.AxesSubplot at 0x7fa5e5c11490>"
            ]
          },
          "metadata": {},
          "execution_count": 25
        },
        {
          "output_type": "display_data",
          "data": {
            "text/plain": [
              "<Figure size 432x288 with 1 Axes>"
            ],
            "image/png": "[encoded data removed]"
          },
          "metadata": {
            "needs_background": "light"
          }
        }
      ]
    },
    {
      "cell_type": "code",
      "source": [
        "#analysing \"slope\" feature\n",
        "\n",
        "dataset[\"slope\"].unique()\n",
        "\n"
      ],
      "metadata": {
        "colab": {
          "base_uri": "https://localhost:8080/"
        },
        "id": "K-dDkR7h4C0m",
        "outputId": "c098c24b-21ba-4b11-9c69-e38e22249261"
      },
      "execution_count": 26,
      "outputs": [
        {
          "output_type": "execute_result",
          "data": {
            "text/plain": [
              "array([2, 0, 1])"
            ]
          },
          "metadata": {},
          "execution_count": 26
        }
      ]
    },
    {
      "cell_type": "code",
      "source": [
        "sns.barplot(dataset[\"slope\"],y)\n",
        "\n",
        "# S2 causes heartpain much more than S0 and S1"
      ],
      "metadata": {
        "colab": {
          "base_uri": "https://localhost:8080/",
          "height": 299
        },
        "id": "X_4gUGiK4MR6",
        "outputId": "b58c1a74-33c2-418a-b2d0-2a5e4ca6776b"
      },
      "execution_count": 27,
      "outputs": [
        {
          "output_type": "execute_result",
          "data": {
            "text/plain": [
              "<matplotlib.axes._subplots.AxesSubplot at 0x7fa5e5c31f70>"
            ]
          },
          "metadata": {},
          "execution_count": 27
        },
        {
          "output_type": "display_data",
          "data": {
            "text/plain": [
              "<Figure size 432x288 with 1 Axes>"
            ],
            "image/png": "[encoded data removed]"
          },
          "metadata": {
            "needs_background": "light"
          }
        }
      ]
    },
    {
      "cell_type": "code",
      "source": [
        "#analysing \"slope\" feature\n",
        "\n",
        "dataset[\"ca\"].unique()"
      ],
      "metadata": {
        "colab": {
          "base_uri": "https://localhost:8080/"
        },
        "id": "7L6JnMNY5hXA",
        "outputId": "ca4c72fa-a935-456c-c30d-17c2dfc6a532"
      },
      "execution_count": 28,
      "outputs": [
        {
          "output_type": "execute_result",
          "data": {
            "text/plain": [
              "array([2, 0, 1, 3, 4])"
            ]
          },
          "metadata": {},
          "execution_count": 28
        }
      ]
    },
    {
      "cell_type": "code",
      "source": [
        "sns.countplot(dataset[\"ca\"])\n"
      ],
      "metadata": {
        "colab": {
          "base_uri": "https://localhost:8080/",
          "height": 298
        },
        "id": "epxiwmMw5qJN",
        "outputId": "acc72bf0-ed00-4b0b-d735-d9bc45767eaf"
      },
      "execution_count": 29,
      "outputs": [
        {
          "output_type": "execute_result",
          "data": {
            "text/plain": [
              "<matplotlib.axes._subplots.AxesSubplot at 0x7fa5e5b43dc0>"
            ]
          },
          "metadata": {},
          "execution_count": 29
        },
        {
          "output_type": "display_data",
          "data": {
            "text/plain": [
              "<Figure size 432x288 with 1 Axes>"
            ],
            "image/png": "[encoded data removed]"
          },
          "metadata": {
            "needs_background": "light"
          }
        }
      ]
    },
    {
      "cell_type": "code",
      "source": [
        "sns.barplot(dataset[\"ca\"],y)\n",
        "\n",
        "#CA4 has very high number of heart patients"
      ],
      "metadata": {
        "colab": {
          "base_uri": "https://localhost:8080/",
          "height": 296
        },
        "id": "uMOVWZQn5ztq",
        "outputId": "335c0201-c63c-4018-e072-7a372431d044"
      },
      "execution_count": 30,
      "outputs": [
        {
          "output_type": "execute_result",
          "data": {
            "text/plain": [
              "<matplotlib.axes._subplots.AxesSubplot at 0x7fa5e5aa48e0>"
            ]
          },
          "metadata": {},
          "execution_count": 30
        },
        {
          "output_type": "display_data",
          "data": {
            "text/plain": [
              "<Figure size 432x288 with 1 Axes>"
            ],
            "image/png": "[encoded data removed]"
          },
          "metadata": {
            "needs_background": "light"
          }
        }
      ]
    },
    {
      "cell_type": "code",
      "source": [
        "#anlysing the 'thal' feature\n",
        "\n",
        "dataset[\"thal\"].unique()"
      ],
      "metadata": {
        "colab": {
          "base_uri": "https://localhost:8080/"
        },
        "id": "8Q_JCvPq6Bss",
        "outputId": "3ac27feb-54a5-4bb1-9943-2cc7633526b1"
      },
      "execution_count": 31,
      "outputs": [
        {
          "output_type": "execute_result",
          "data": {
            "text/plain": [
              "array([3, 2, 1, 0])"
            ]
          },
          "metadata": {},
          "execution_count": 31
        }
      ]
    },
    {
      "cell_type": "code",
      "source": [
        "sns.barplot(dataset[\"thal\"],y)"
      ],
      "metadata": {
        "colab": {
          "base_uri": "https://localhost:8080/",
          "height": 300
        },
        "id": "PrRUbQfT6ICv",
        "outputId": "8531aed5-78c8-42b1-ecbb-49ba7661a8f1"
      },
      "execution_count": 32,
      "outputs": [
        {
          "output_type": "execute_result",
          "data": {
            "text/plain": [
              "<matplotlib.axes._subplots.AxesSubplot at 0x7fa5e5a8aa30>"
            ]
          },
          "metadata": {},
          "execution_count": 32
        },
        {
          "output_type": "display_data",
          "data": {
            "text/plain": [
              "<Figure size 432x288 with 1 Axes>"
            ],
            "image/png": "[encoded data removed]"
          },
          "metadata": {
            "needs_background": "light"
          }
        }
      ]
    },
    {
      "cell_type": "code",
      "source": [
        "sns.distplot(dataset[\"thal\"])"
      ],
      "metadata": {
        "colab": {
          "base_uri": "https://localhost:8080/",
          "height": 296
        },
        "id": "GLsNG68F6K_m",
        "outputId": "5613408a-1f4e-403f-d0c3-1898d66c72ee"
      },
      "execution_count": 33,
      "outputs": [
        {
          "output_type": "execute_result",
          "data": {
            "text/plain": [
              "<matplotlib.axes._subplots.AxesSubplot at 0x7fa5e5a00d60>"
            ]
          },
          "metadata": {},
          "execution_count": 33
        },
        {
          "output_type": "display_data",
          "data": {
            "text/plain": [
              "<Figure size 432x288 with 1 Axes>"
            ],
            "image/png": "[encoded data removed]"
          },
          "metadata": {
            "needs_background": "light"
          }
        }
      ]
    },
    {
      "cell_type": "code",
      "source": [
        "#TRAIN TEST SPLIT\n",
        "\n",
        "from sklearn.model_selection import train_test_split\n",
        "\n",
        "predictors = dataset.drop(\"target\",axis=1)\n",
        "target = dataset[\"target\"]\n",
        "\n",
        "X_train,X_test,Y_train,Y_test = train_test_split(predictors,target,test_size=0.30,random_state=1)"
      ],
      "metadata": {
        "id": "2aebuTzD6RHK"
      },
      "execution_count": 34,
      "outputs": []
    },
    {
      "cell_type": "code",
      "source": [
        "X_train.shape"
      ],
      "metadata": {
        "colab": {
          "base_uri": "https://localhost:8080/"
        },
        "id": "sAOTzU8l6aQZ",
        "outputId": "37ddb978-1f15-494d-a8e4-f8d6f25a3d70"
      },
      "execution_count": 35,
      "outputs": [
        {
          "output_type": "execute_result",
          "data": {
            "text/plain": [
              "(717, 13)"
            ]
          },
          "metadata": {},
          "execution_count": 35
        }
      ]
    },
    {
      "cell_type": "code",
      "source": [
        "X_test.shape"
      ],
      "metadata": {
        "colab": {
          "base_uri": "https://localhost:8080/"
        },
        "id": "o41sS2NI6cg-",
        "outputId": "3dead99d-122f-467a-dc84-75c9c11f9cd9"
      },
      "execution_count": 36,
      "outputs": [
        {
          "output_type": "execute_result",
          "data": {
            "text/plain": [
              "(308, 13)"
            ]
          },
          "metadata": {},
          "execution_count": 36
        }
      ]
    },
    {
      "cell_type": "code",
      "source": [
        "Y_train.shape"
      ],
      "metadata": {
        "colab": {
          "base_uri": "https://localhost:8080/"
        },
        "id": "U0NWPFJV6oZz",
        "outputId": "68f2b3bd-0777-4b3e-907a-b1be4267e7dd"
      },
      "execution_count": 37,
      "outputs": [
        {
          "output_type": "execute_result",
          "data": {
            "text/plain": [
              "(717,)"
            ]
          },
          "metadata": {},
          "execution_count": 37
        }
      ]
    },
    {
      "cell_type": "code",
      "source": [
        "Y_test.shape"
      ],
      "metadata": {
        "colab": {
          "base_uri": "https://localhost:8080/"
        },
        "id": "N0MzuPj46r7y",
        "outputId": "4c4dc5ec-6795-4541-8a31-9f1245c6ffd9"
      },
      "execution_count": 38,
      "outputs": [
        {
          "output_type": "execute_result",
          "data": {
            "text/plain": [
              "(308,)"
            ]
          },
          "metadata": {},
          "execution_count": 38
        }
      ]
    },
    {
      "cell_type": "code",
      "source": [
        "## MODEL FITTING ##\n",
        "\n",
        "from sklearn.metrics import accuracy_score"
      ],
      "metadata": {
        "id": "dHbyhgEw6t1O"
      },
      "execution_count": 39,
      "outputs": []
    },
    {
      "cell_type": "code",
      "source": [
        "#LOGISTIC REGRESSION\n",
        "\n",
        "from sklearn.linear_model import LogisticRegression\n",
        "\n",
        "lr = LogisticRegression()\n",
        "\n",
        "lr.fit(X_train,Y_train)\n",
        "\n",
        "Y_pred_lr = lr.predict(X_test)"
      ],
      "metadata": {
        "id": "Em7AKMeM62pa"
      },
      "execution_count": 40,
      "outputs": []
    },
    {
      "cell_type": "code",
      "source": [
        "Y_pred_lr.shape"
      ],
      "metadata": {
        "colab": {
          "base_uri": "https://localhost:8080/"
        },
        "id": "SAzTQ5sL69H7",
        "outputId": "e8e97a75-1e7d-4417-cf5c-f959673bc631"
      },
      "execution_count": 41,
      "outputs": [
        {
          "output_type": "execute_result",
          "data": {
            "text/plain": [
              "(308,)"
            ]
          },
          "metadata": {},
          "execution_count": 41
        }
      ]
    },
    {
      "cell_type": "code",
      "source": [
        "score_lr = round(accuracy_score(Y_pred_lr,Y_test)*100,2)\n",
        "\n",
        "print(\"The accuracy score achieved using Logistic Regression is: \"+str(score_lr)+\" %\")"
      ],
      "metadata": {
        "colab": {
          "base_uri": "https://localhost:8080/"
        },
        "id": "NrmmDAgT7Afx",
        "outputId": "d29cb165-a5ab-4fd7-e66e-266abe252a71"
      },
      "execution_count": 42,
      "outputs": [
        {
          "output_type": "stream",
          "name": "stdout",
          "text": [
            "The accuracy score achieved using Logistic Regression is: 82.47 %\n"
          ]
        }
      ]
    },
    {
      "cell_type": "code",
      "source": [
        "from sklearn.metrics import confusion_matrix\n",
        "confusion_matrix= confusion_matrix(Y_test,Y_pred_lr)\n",
        "\n",
        "confusion_matrix"
      ],
      "metadata": {
        "colab": {
          "base_uri": "https://localhost:8080/"
        },
        "id": "74ET8BSWq2qA",
        "outputId": "e675f7da-44ac-4e4f-ae7b-cfe5f492e845"
      },
      "execution_count": 43,
      "outputs": [
        {
          "output_type": "execute_result",
          "data": {
            "text/plain": [
              "array([[118,  43],\n",
              "       [ 11, 136]])"
            ]
          },
          "metadata": {},
          "execution_count": 43
        }
      ]
    },
    {
      "cell_type": "code",
      "source": [
        "from sklearn import metrics\n",
        "import numpy as np\n",
        "\n",
        "actual = Y_test\n",
        "predicted = Y_pred_lr\n",
        "\n",
        "confusion_matrix = metrics.confusion_matrix(actual, predicted)\n",
        "\n",
        "cm_display = metrics.ConfusionMatrixDisplay(confusion_matrix = confusion_matrix, display_labels = [True, False])\n",
        "\n",
        "cm_display.plot()\n",
        "plt.show()"
      ],
      "metadata": {
        "colab": {
          "base_uri": "https://localhost:8080/",
          "height": 279
        },
        "id": "1ezUxu14w_sn",
        "outputId": "e0757233-b3ca-4989-f802-0a44ac718fee"
      },
      "execution_count": 44,
      "outputs": [
        {
          "output_type": "display_data",
          "data": {
            "text/plain": [
              "<Figure size 432x288 with 2 Axes>"
            ],
            "image/png": "[encoded data removed]"
          },
          "metadata": {
            "needs_background": "light"
          }
        }
      ]
    },
    {
      "cell_type": "code",
      "source": [
        "from sklearn.metrics import classification_report\n",
        "\n",
        "print(classification_report(Y_test,Y_pred_lr))"
      ],
      "metadata": {
        "colab": {
          "base_uri": "https://localhost:8080/"
        },
        "id": "Xak2Nan8yHbA",
        "outputId": "078a3094-e8f3-4802-be00-5d700299d4c6"
      },
      "execution_count": 45,
      "outputs": [
        {
          "output_type": "stream",
          "name": "stdout",
          "text": [
            "              precision    recall  f1-score   support\n",
            "\n",
            "           0       0.91      0.73      0.81       161\n",
            "           1       0.76      0.93      0.83       147\n",
            "\n",
            "    accuracy                           0.82       308\n",
            "   macro avg       0.84      0.83      0.82       308\n",
            "weighted avg       0.84      0.82      0.82       308\n",
            "\n"
          ]
        }
      ]
    },
    {
      "cell_type": "code",
      "source": [
        "#DECISION TREE\n",
        "\n",
        "from sklearn.tree import DecisionTreeClassifier\n",
        "\n",
        "max_accuracy = 0\n",
        "\n",
        "\n",
        "for x in range(200):\n",
        "    dt = DecisionTreeClassifier(random_state=x)\n",
        "    dt.fit(X_train,Y_train)\n",
        "    Y_pred_dt = dt.predict(X_test)\n",
        "    current_accuracy = round(accuracy_score(Y_pred_dt,Y_test)*100,2)\n",
        "    if(current_accuracy>max_accuracy):\n",
        "        max_accuracy = current_accuracy\n",
        "        best_x = x\n",
        "        \n",
        "#print(max_accuracy)\n",
        "#print(best_x)\n",
        "\n",
        "\n",
        "dt = DecisionTreeClassifier(random_state=best_x)\n",
        "dt.fit(X_train,Y_train)\n",
        "Y_pred_dt = dt.predict(X_test)"
      ],
      "metadata": {
        "id": "9AEJykR77F1k"
      },
      "execution_count": 46,
      "outputs": []
    },
    {
      "cell_type": "code",
      "source": [
        "print(Y_pred_dt.shape)"
      ],
      "metadata": {
        "colab": {
          "base_uri": "https://localhost:8080/"
        },
        "id": "XDXKL-1B7MRU",
        "outputId": "39d89998-da25-4c43-adeb-cccaa381c54d"
      },
      "execution_count": 47,
      "outputs": [
        {
          "output_type": "stream",
          "name": "stdout",
          "text": [
            "(308,)\n"
          ]
        }
      ]
    },
    {
      "cell_type": "code",
      "source": [
        "score_dt = round(accuracy_score(Y_pred_dt,Y_test)*100,2)\n",
        "\n",
        "print(\"The accuracy score achieved using Decision Tree is: \"+str(score_dt)+\" %\")"
      ],
      "metadata": {
        "colab": {
          "base_uri": "https://localhost:8080/"
        },
        "id": "8WtGg06x7P7Q",
        "outputId": "f8a25f1c-68f1-4de4-8b00-6e772e1bfb87"
      },
      "execution_count": 48,
      "outputs": [
        {
          "output_type": "stream",
          "name": "stdout",
          "text": [
            "The accuracy score achieved using Decision Tree is: 99.03 %\n"
          ]
        }
      ]
    },
    {
      "cell_type": "code",
      "source": [
        "from sklearn.metrics import confusion_matrix\n",
        "confusion_matrix= confusion_matrix(Y_test,Y_pred_dt)\n",
        "\n",
        "confusion_matrix"
      ],
      "metadata": {
        "colab": {
          "base_uri": "https://localhost:8080/"
        },
        "id": "C5IanHUQ6m3m",
        "outputId": "3cc96f96-e072-4407-ecca-97d111de8b07"
      },
      "execution_count": 49,
      "outputs": [
        {
          "output_type": "execute_result",
          "data": {
            "text/plain": [
              "array([[161,   0],\n",
              "       [  3, 144]])"
            ]
          },
          "metadata": {},
          "execution_count": 49
        }
      ]
    },
    {
      "cell_type": "code",
      "source": [
        "actual = Y_test\n",
        "predicted = Y_pred_dt\n",
        "\n",
        "confusion_matrix = metrics.confusion_matrix(actual, predicted)\n",
        "\n",
        "cm_display = metrics.ConfusionMatrixDisplay(confusion_matrix = confusion_matrix, display_labels = [True, False])\n",
        "\n",
        "cm_display.plot()\n",
        "plt.show()"
      ],
      "metadata": {
        "colab": {
          "base_uri": "https://localhost:8080/",
          "height": 282
        },
        "id": "xkacFxyK6wGd",
        "outputId": "6e666c42-ad20-4a28-b386-063e0e0fc1b2"
      },
      "execution_count": 50,
      "outputs": [
        {
          "output_type": "display_data",
          "data": {
            "text/plain": [
              "<Figure size 432x288 with 2 Axes>"
            ],
            "image/png": "[encoded data removed]"
          },
          "metadata": {
            "needs_background": "light"
          }
        }
      ]
    },
    {
      "cell_type": "code",
      "source": [
        "from sklearn.metrics import classification_report\n",
        "\n",
        "print(classification_report(Y_test,Y_pred_dt))"
      ],
      "metadata": {
        "colab": {
          "base_uri": "https://localhost:8080/"
        },
        "id": "MfHyQEpg7AUa",
        "outputId": "88d88a07-9be7-4d6b-94d0-06cae4dc4edf"
      },
      "execution_count": 51,
      "outputs": [
        {
          "output_type": "stream",
          "name": "stdout",
          "text": [
            "              precision    recall  f1-score   support\n",
            "\n",
            "           0       0.98      1.00      0.99       161\n",
            "           1       1.00      0.98      0.99       147\n",
            "\n",
            "    accuracy                           0.99       308\n",
            "   macro avg       0.99      0.99      0.99       308\n",
            "weighted avg       0.99      0.99      0.99       308\n",
            "\n"
          ]
        }
      ]
    },
    {
      "cell_type": "code",
      "source": [
        "#RANDOM FOREST\n",
        "\n",
        "from sklearn.ensemble import RandomForestClassifier\n",
        "\n",
        "max_accuracy = 0\n",
        "\n",
        "\n",
        "for x in range(2000):\n",
        "    rf = RandomForestClassifier(random_state=x)\n",
        "    rf.fit(X_train,Y_train)\n",
        "    Y_pred_rf = rf.predict(X_test)\n",
        "    current_accuracy = round(accuracy_score(Y_pred_rf,Y_test)*100,2)\n",
        "    if(current_accuracy>max_accuracy):\n",
        "        max_accuracy = current_accuracy\n",
        "        best_x = x\n",
        "        \n",
        "#print(max_accuracy)\n",
        "#print(best_x)\n",
        "\n",
        "rf = RandomForestClassifier(random_state=best_x)\n",
        "rf.fit(X_train,Y_train)\n",
        "Y_pred_rf = rf.predict(X_test)"
      ],
      "metadata": {
        "id": "G5Cg574c7sbj"
      },
      "execution_count": 52,
      "outputs": []
    },
    {
      "cell_type": "code",
      "source": [
        "Y_pred_rf.shape"
      ],
      "metadata": {
        "colab": {
          "base_uri": "https://localhost:8080/"
        },
        "id": "FCoKT-h69ei0",
        "outputId": "e9e0267a-42b0-421b-c14b-fbdc62267a23"
      },
      "execution_count": 53,
      "outputs": [
        {
          "output_type": "execute_result",
          "data": {
            "text/plain": [
              "(308,)"
            ]
          },
          "metadata": {},
          "execution_count": 53
        }
      ]
    },
    {
      "cell_type": "code",
      "source": [
        "score_rf = round(accuracy_score(Y_pred_rf,Y_test)*100,2)\n",
        "\n",
        "print(\"The accuracy score achieved using Decision Tree is: \"+str(score_rf)+\" %\")"
      ],
      "metadata": {
        "colab": {
          "base_uri": "https://localhost:8080/"
        },
        "id": "WbnslY6K9nU_",
        "outputId": "96ea2701-0d3f-455a-db02-be8861225349"
      },
      "execution_count": 54,
      "outputs": [
        {
          "output_type": "stream",
          "name": "stdout",
          "text": [
            "The accuracy score achieved using Decision Tree is: 100.0 %\n"
          ]
        }
      ]
    },
    {
      "cell_type": "code",
      "source": [
        "from sklearn.metrics import confusion_matrix\n",
        "confusion_matrix= confusion_matrix(Y_test,Y_pred_rf)\n",
        "\n",
        "confusion_matrix"
      ],
      "metadata": {
        "colab": {
          "base_uri": "https://localhost:8080/"
        },
        "id": "fW6dYocc7QyL",
        "outputId": "703acc8e-5c2f-4bca-e9f5-4cf50b80c8e6"
      },
      "execution_count": 55,
      "outputs": [
        {
          "output_type": "execute_result",
          "data": {
            "text/plain": [
              "array([[161,   0],\n",
              "       [  0, 147]])"
            ]
          },
          "metadata": {},
          "execution_count": 55
        }
      ]
    },
    {
      "cell_type": "code",
      "source": [
        "actual = Y_test\n",
        "predicted = Y_pred_rf\n",
        "\n",
        "confusion_matrix = metrics.confusion_matrix(actual, predicted)\n",
        "\n",
        "cm_display = metrics.ConfusionMatrixDisplay(confusion_matrix = confusion_matrix, display_labels = [True, False])\n",
        "\n",
        "cm_display.plot()\n",
        "plt.show()"
      ],
      "metadata": {
        "colab": {
          "base_uri": "https://localhost:8080/",
          "height": 282
        },
        "id": "ftYFxf-C7S1t",
        "outputId": "9326bb4a-a16b-4565-dd82-d0e28976d73a"
      },
      "execution_count": 56,
      "outputs": [
        {
          "output_type": "display_data",
          "data": {
            "text/plain": [
              "<Figure size 432x288 with 2 Axes>"
            ],
            "image/png": "[encoded data removed]"
          },
          "metadata": {
            "needs_background": "light"
          }
        }
      ]
    },
    {
      "cell_type": "code",
      "source": [
        "from sklearn.metrics import classification_report\n",
        "\n",
        "print(classification_report(Y_test,Y_pred_rf))"
      ],
      "metadata": {
        "colab": {
          "base_uri": "https://localhost:8080/"
        },
        "id": "7Bz3dR867S91",
        "outputId": "51d2da29-3740-4b74-e6d2-e97f0ecc8b87"
      },
      "execution_count": 57,
      "outputs": [
        {
          "output_type": "stream",
          "name": "stdout",
          "text": [
            "              precision    recall  f1-score   support\n",
            "\n",
            "           0       1.00      1.00      1.00       161\n",
            "           1       1.00      1.00      1.00       147\n",
            "\n",
            "    accuracy                           1.00       308\n",
            "   macro avg       1.00      1.00      1.00       308\n",
            "weighted avg       1.00      1.00      1.00       308\n",
            "\n"
          ]
        }
      ]
    },
    {
      "cell_type": "code",
      "source": [
        "#NEURAL NETWORK\n",
        "\n",
        "from keras.models import Sequential\n",
        "from keras.layers import Dense"
      ],
      "metadata": {
        "id": "onGZG94b94Ia"
      },
      "execution_count": 58,
      "outputs": []
    },
    {
      "cell_type": "code",
      "source": [
        "# https://stats.stackexchange.com/a/136542 helped a lot in avoiding overfitting\n",
        "\n",
        "model = Sequential()\n",
        "model.add(Dense(11,activation='relu',input_dim=13))\n",
        "model.add(Dense(1,activation='sigmoid'))\n",
        "\n",
        "model.compile(loss='binary_crossentropy',optimizer='adam',metrics=['accuracy'])"
      ],
      "metadata": {
        "id": "NQ2PuBGk-GZw"
      },
      "execution_count": 59,
      "outputs": []
    },
    {
      "cell_type": "code",
      "source": [
        "model.fit(X_train,Y_train,epochs=300)"
      ],
      "metadata": {
        "colab": {
          "base_uri": "https://localhost:8080/"
        },
        "id": "wO4SZjAv-KXx",
        "outputId": "cae74e26-ec77-4324-824c-ce7addd86b0d"
      },
      "execution_count": 60,
      "outputs": [
        {
          "output_type": "stream",
          "name": "stdout",
          "text": [
            "Epoch 1/300\n",
            "23/23 [==============================] - 1s 3ms/step - loss: 6.5885 - accuracy: 0.5495\n",
            "Epoch 2/300\n",
            "23/23 [==============================] - 0s 2ms/step - loss: 2.9304 - accuracy: 0.6262\n",
            "Epoch 3/300\n",
            "23/23 [==============================] - 0s 3ms/step - loss: 2.2832 - accuracy: 0.6485\n",
            "Epoch 4/300\n",
            "23/23 [==============================] - 0s 2ms/step - loss: 1.8572 - accuracy: 0.6667\n",
            "Epoch 5/300\n",
            "23/23 [==============================] - 0s 2ms/step - loss: 1.6774 - accuracy: 0.6834\n",
            "Epoch 6/300\n",
            "23/23 [==============================] - 0s 2ms/step - loss: 1.5459 - accuracy: 0.6890\n",
            "Epoch 7/300\n",
            "23/23 [==============================] - 0s 2ms/step - loss: 1.4133 - accuracy: 0.7029\n",
            "Epoch 8/300\n",
            "23/23 [==============================] - 0s 2ms/step - loss: 1.2812 - accuracy: 0.7099\n",
            "Epoch 9/300\n",
            "23/23 [==============================] - 0s 2ms/step - loss: 1.1725 - accuracy: 0.7099\n",
            "Epoch 10/300\n",
            "23/23 [==============================] - 0s 2ms/step - loss: 1.0758 - accuracy: 0.7155\n",
            "Epoch 11/300\n",
            "23/23 [==============================] - 0s 2ms/step - loss: 1.0264 - accuracy: 0.7099\n",
            "Epoch 12/300\n",
            "23/23 [==============================] - 0s 2ms/step - loss: 0.9197 - accuracy: 0.7183\n",
            "Epoch 13/300\n",
            "23/23 [==============================] - 0s 2ms/step - loss: 0.8941 - accuracy: 0.7211\n",
            "Epoch 14/300\n",
            "23/23 [==============================] - 0s 2ms/step - loss: 0.7848 - accuracy: 0.7308\n",
            "Epoch 15/300\n",
            "23/23 [==============================] - 0s 2ms/step - loss: 0.7052 - accuracy: 0.7448\n",
            "Epoch 16/300\n",
            "23/23 [==============================] - 0s 2ms/step - loss: 0.6593 - accuracy: 0.7434\n",
            "Epoch 17/300\n",
            "23/23 [==============================] - 0s 2ms/step - loss: 0.6233 - accuracy: 0.7503\n",
            "Epoch 18/300\n",
            "23/23 [==============================] - 0s 2ms/step - loss: 0.5682 - accuracy: 0.7699\n",
            "Epoch 19/300\n",
            "23/23 [==============================] - 0s 2ms/step - loss: 0.5464 - accuracy: 0.7629\n",
            "Epoch 20/300\n",
            "23/23 [==============================] - 0s 2ms/step - loss: 0.5032 - accuracy: 0.7852\n",
            "Epoch 21/300\n",
            "23/23 [==============================] - 0s 2ms/step - loss: 0.4793 - accuracy: 0.7796\n",
            "Epoch 22/300\n",
            "23/23 [==============================] - 0s 2ms/step - loss: 0.4531 - accuracy: 0.7922\n",
            "Epoch 23/300\n",
            "23/23 [==============================] - 0s 2ms/step - loss: 0.4448 - accuracy: 0.7964\n",
            "Epoch 24/300\n",
            "23/23 [==============================] - 0s 2ms/step - loss: 0.4250 - accuracy: 0.8089\n",
            "Epoch 25/300\n",
            "23/23 [==============================] - 0s 2ms/step - loss: 0.4238 - accuracy: 0.7992\n",
            "Epoch 26/300\n",
            "23/23 [==============================] - 0s 2ms/step - loss: 0.4249 - accuracy: 0.7922\n",
            "Epoch 27/300\n",
            "23/23 [==============================] - 0s 2ms/step - loss: 0.4507 - accuracy: 0.7964\n",
            "Epoch 28/300\n",
            "23/23 [==============================] - 0s 2ms/step - loss: 0.4369 - accuracy: 0.7908\n",
            "Epoch 29/300\n",
            "23/23 [==============================] - 0s 2ms/step - loss: 0.3873 - accuracy: 0.8312\n",
            "Epoch 30/300\n",
            "23/23 [==============================] - 0s 2ms/step - loss: 0.3947 - accuracy: 0.8271\n",
            "Epoch 31/300\n",
            "23/23 [==============================] - 0s 3ms/step - loss: 0.3842 - accuracy: 0.8173\n",
            "Epoch 32/300\n",
            "23/23 [==============================] - 0s 2ms/step - loss: 0.4158 - accuracy: 0.7992\n",
            "Epoch 33/300\n",
            "23/23 [==============================] - 0s 2ms/step - loss: 0.3888 - accuracy: 0.8201\n",
            "Epoch 34/300\n",
            "23/23 [==============================] - 0s 2ms/step - loss: 0.3789 - accuracy: 0.8271\n",
            "Epoch 35/300\n",
            "23/23 [==============================] - 0s 2ms/step - loss: 0.3906 - accuracy: 0.8285\n",
            "Epoch 36/300\n",
            "23/23 [==============================] - 0s 2ms/step - loss: 0.4040 - accuracy: 0.8243\n",
            "Epoch 37/300\n",
            "23/23 [==============================] - 0s 2ms/step - loss: 0.3700 - accuracy: 0.8354\n",
            "Epoch 38/300\n",
            "23/23 [==============================] - 0s 2ms/step - loss: 0.3859 - accuracy: 0.8368\n",
            "Epoch 39/300\n",
            "23/23 [==============================] - 0s 2ms/step - loss: 0.3822 - accuracy: 0.8340\n",
            "Epoch 40/300\n",
            "23/23 [==============================] - 0s 2ms/step - loss: 0.3696 - accuracy: 0.8396\n",
            "Epoch 41/300\n",
            "23/23 [==============================] - 0s 2ms/step - loss: 0.3663 - accuracy: 0.8396\n",
            "Epoch 42/300\n",
            "23/23 [==============================] - 0s 3ms/step - loss: 0.3731 - accuracy: 0.8424\n",
            "Epoch 43/300\n",
            "23/23 [==============================] - 0s 2ms/step - loss: 0.3663 - accuracy: 0.8424\n",
            "Epoch 44/300\n",
            "23/23 [==============================] - 0s 2ms/step - loss: 0.3634 - accuracy: 0.8312\n",
            "Epoch 45/300\n",
            "23/23 [==============================] - 0s 2ms/step - loss: 0.3763 - accuracy: 0.8326\n",
            "Epoch 46/300\n",
            "23/23 [==============================] - 0s 2ms/step - loss: 0.3931 - accuracy: 0.8201\n",
            "Epoch 47/300\n",
            "23/23 [==============================] - 0s 2ms/step - loss: 0.3671 - accuracy: 0.8396\n",
            "Epoch 48/300\n",
            "23/23 [==============================] - 0s 2ms/step - loss: 0.3710 - accuracy: 0.8466\n",
            "Epoch 49/300\n",
            "23/23 [==============================] - 0s 2ms/step - loss: 0.3664 - accuracy: 0.8438\n",
            "Epoch 50/300\n",
            "23/23 [==============================] - 0s 2ms/step - loss: 0.3657 - accuracy: 0.8354\n",
            "Epoch 51/300\n",
            "23/23 [==============================] - 0s 2ms/step - loss: 0.3644 - accuracy: 0.8452\n",
            "Epoch 52/300\n",
            "23/23 [==============================] - 0s 3ms/step - loss: 0.3664 - accuracy: 0.8424\n",
            "Epoch 53/300\n",
            "23/23 [==============================] - 0s 2ms/step - loss: 0.3660 - accuracy: 0.8424\n",
            "Epoch 54/300\n",
            "23/23 [==============================] - 0s 2ms/step - loss: 0.3967 - accuracy: 0.8285\n",
            "Epoch 55/300\n",
            "23/23 [==============================] - 0s 2ms/step - loss: 0.4471 - accuracy: 0.8103\n",
            "Epoch 56/300\n",
            "23/23 [==============================] - 0s 2ms/step - loss: 0.3560 - accuracy: 0.8536\n",
            "Epoch 57/300\n",
            "23/23 [==============================] - 0s 2ms/step - loss: 0.3597 - accuracy: 0.8591\n",
            "Epoch 58/300\n",
            "23/23 [==============================] - 0s 2ms/step - loss: 0.3568 - accuracy: 0.8577\n",
            "Epoch 59/300\n",
            "23/23 [==============================] - 0s 2ms/step - loss: 0.3885 - accuracy: 0.8201\n",
            "Epoch 60/300\n",
            "23/23 [==============================] - 0s 2ms/step - loss: 0.3658 - accuracy: 0.8550\n",
            "Epoch 61/300\n",
            "23/23 [==============================] - 0s 2ms/step - loss: 0.3522 - accuracy: 0.8494\n",
            "Epoch 62/300\n",
            "23/23 [==============================] - 0s 2ms/step - loss: 0.3696 - accuracy: 0.8312\n",
            "Epoch 63/300\n",
            "23/23 [==============================] - 0s 3ms/step - loss: 0.3848 - accuracy: 0.8340\n",
            "Epoch 64/300\n",
            "23/23 [==============================] - 0s 2ms/step - loss: 0.3777 - accuracy: 0.8410\n",
            "Epoch 65/300\n",
            "23/23 [==============================] - 0s 2ms/step - loss: 0.3689 - accuracy: 0.8354\n",
            "Epoch 66/300\n",
            "23/23 [==============================] - 0s 2ms/step - loss: 0.4037 - accuracy: 0.8089\n",
            "Epoch 67/300\n",
            "23/23 [==============================] - 0s 2ms/step - loss: 0.3511 - accuracy: 0.8619\n",
            "Epoch 68/300\n",
            "23/23 [==============================] - 0s 2ms/step - loss: 0.3608 - accuracy: 0.8494\n",
            "Epoch 69/300\n",
            "23/23 [==============================] - 0s 2ms/step - loss: 0.3851 - accuracy: 0.8173\n",
            "Epoch 70/300\n",
            "23/23 [==============================] - 0s 2ms/step - loss: 0.3562 - accuracy: 0.8480\n",
            "Epoch 71/300\n",
            "23/23 [==============================] - 0s 2ms/step - loss: 0.3477 - accuracy: 0.8550\n",
            "Epoch 72/300\n",
            "23/23 [==============================] - 0s 2ms/step - loss: 0.3601 - accuracy: 0.8480\n",
            "Epoch 73/300\n",
            "23/23 [==============================] - 0s 2ms/step - loss: 0.3518 - accuracy: 0.8271\n",
            "Epoch 74/300\n",
            "23/23 [==============================] - 0s 2ms/step - loss: 0.3819 - accuracy: 0.8326\n",
            "Epoch 75/300\n",
            "23/23 [==============================] - 0s 2ms/step - loss: 0.3570 - accuracy: 0.8424\n",
            "Epoch 76/300\n",
            "23/23 [==============================] - 0s 2ms/step - loss: 0.3560 - accuracy: 0.8605\n",
            "Epoch 77/300\n",
            "23/23 [==============================] - 0s 2ms/step - loss: 0.3727 - accuracy: 0.8396\n",
            "Epoch 78/300\n",
            "23/23 [==============================] - 0s 2ms/step - loss: 0.3540 - accuracy: 0.8466\n",
            "Epoch 79/300\n",
            "23/23 [==============================] - 0s 2ms/step - loss: 0.3722 - accuracy: 0.8424\n",
            "Epoch 80/300\n",
            "23/23 [==============================] - 0s 2ms/step - loss: 0.3791 - accuracy: 0.8257\n",
            "Epoch 81/300\n",
            "23/23 [==============================] - 0s 2ms/step - loss: 0.3706 - accuracy: 0.8271\n",
            "Epoch 82/300\n",
            "23/23 [==============================] - 0s 2ms/step - loss: 0.3521 - accuracy: 0.8536\n",
            "Epoch 83/300\n",
            "23/23 [==============================] - 0s 2ms/step - loss: 0.3780 - accuracy: 0.8326\n",
            "Epoch 84/300\n",
            "23/23 [==============================] - 0s 2ms/step - loss: 0.3504 - accuracy: 0.8480\n",
            "Epoch 85/300\n",
            "23/23 [==============================] - 0s 2ms/step - loss: 0.4007 - accuracy: 0.8145\n",
            "Epoch 86/300\n",
            "23/23 [==============================] - 0s 2ms/step - loss: 0.3837 - accuracy: 0.8340\n",
            "Epoch 87/300\n",
            "23/23 [==============================] - 0s 2ms/step - loss: 0.3720 - accuracy: 0.8424\n",
            "Epoch 88/300\n",
            "23/23 [==============================] - 0s 2ms/step - loss: 0.3604 - accuracy: 0.8312\n",
            "Epoch 89/300\n",
            "23/23 [==============================] - 0s 2ms/step - loss: 0.3617 - accuracy: 0.8396\n",
            "Epoch 90/300\n",
            "23/23 [==============================] - 0s 2ms/step - loss: 0.3697 - accuracy: 0.8298\n",
            "Epoch 91/300\n",
            "23/23 [==============================] - 0s 2ms/step - loss: 0.3607 - accuracy: 0.8438\n",
            "Epoch 92/300\n",
            "23/23 [==============================] - 0s 2ms/step - loss: 0.3736 - accuracy: 0.8215\n",
            "Epoch 93/300\n",
            "23/23 [==============================] - 0s 3ms/step - loss: 0.3523 - accuracy: 0.8494\n",
            "Epoch 94/300\n",
            "23/23 [==============================] - 0s 2ms/step - loss: 0.3560 - accuracy: 0.8396\n",
            "Epoch 95/300\n",
            "23/23 [==============================] - 0s 2ms/step - loss: 0.3588 - accuracy: 0.8368\n",
            "Epoch 96/300\n",
            "23/23 [==============================] - 0s 2ms/step - loss: 0.3554 - accuracy: 0.8396\n",
            "Epoch 97/300\n",
            "23/23 [==============================] - 0s 3ms/step - loss: 0.3593 - accuracy: 0.8396\n",
            "Epoch 98/300\n",
            "23/23 [==============================] - 0s 2ms/step - loss: 0.3687 - accuracy: 0.8368\n",
            "Epoch 99/300\n",
            "23/23 [==============================] - 0s 2ms/step - loss: 0.3417 - accuracy: 0.8550\n",
            "Epoch 100/300\n",
            "23/23 [==============================] - 0s 2ms/step - loss: 0.3547 - accuracy: 0.8438\n",
            "Epoch 101/300\n",
            "23/23 [==============================] - 0s 2ms/step - loss: 0.3638 - accuracy: 0.8452\n",
            "Epoch 102/300\n",
            "23/23 [==============================] - 0s 2ms/step - loss: 0.3840 - accuracy: 0.8340\n",
            "Epoch 103/300\n",
            "23/23 [==============================] - 0s 2ms/step - loss: 0.3662 - accuracy: 0.8396\n",
            "Epoch 104/300\n",
            "23/23 [==============================] - 0s 3ms/step - loss: 0.3633 - accuracy: 0.8368\n",
            "Epoch 105/300\n",
            "23/23 [==============================] - 0s 2ms/step - loss: 0.3449 - accuracy: 0.8591\n",
            "Epoch 106/300\n",
            "23/23 [==============================] - 0s 2ms/step - loss: 0.3736 - accuracy: 0.8326\n",
            "Epoch 107/300\n",
            "23/23 [==============================] - 0s 2ms/step - loss: 0.3492 - accuracy: 0.8550\n",
            "Epoch 108/300\n",
            "23/23 [==============================] - 0s 2ms/step - loss: 0.3464 - accuracy: 0.8382\n",
            "Epoch 109/300\n",
            "23/23 [==============================] - 0s 2ms/step - loss: 0.3491 - accuracy: 0.8522\n",
            "Epoch 110/300\n",
            "23/23 [==============================] - 0s 2ms/step - loss: 0.3531 - accuracy: 0.8522\n",
            "Epoch 111/300\n",
            "23/23 [==============================] - 0s 2ms/step - loss: 0.3745 - accuracy: 0.8243\n",
            "Epoch 112/300\n",
            "23/23 [==============================] - 0s 2ms/step - loss: 0.3837 - accuracy: 0.8326\n",
            "Epoch 113/300\n",
            "23/23 [==============================] - 0s 3ms/step - loss: 0.3663 - accuracy: 0.8424\n",
            "Epoch 114/300\n",
            "23/23 [==============================] - 0s 2ms/step - loss: 0.3555 - accuracy: 0.8480\n",
            "Epoch 115/300\n",
            "23/23 [==============================] - 0s 2ms/step - loss: 0.3613 - accuracy: 0.8410\n",
            "Epoch 116/300\n",
            "23/23 [==============================] - 0s 2ms/step - loss: 0.3554 - accuracy: 0.8466\n",
            "Epoch 117/300\n",
            "23/23 [==============================] - 0s 2ms/step - loss: 0.3466 - accuracy: 0.8452\n",
            "Epoch 118/300\n",
            "23/23 [==============================] - 0s 2ms/step - loss: 0.3726 - accuracy: 0.8354\n",
            "Epoch 119/300\n",
            "23/23 [==============================] - 0s 2ms/step - loss: 0.3553 - accuracy: 0.8452\n",
            "Epoch 120/300\n",
            "23/23 [==============================] - 0s 2ms/step - loss: 0.3613 - accuracy: 0.8410\n",
            "Epoch 121/300\n",
            "23/23 [==============================] - 0s 2ms/step - loss: 0.3601 - accuracy: 0.8452\n",
            "Epoch 122/300\n",
            "23/23 [==============================] - 0s 2ms/step - loss: 0.3587 - accuracy: 0.8382\n",
            "Epoch 123/300\n",
            "23/23 [==============================] - 0s 2ms/step - loss: 0.3744 - accuracy: 0.8229\n",
            "Epoch 124/300\n",
            "23/23 [==============================] - 0s 2ms/step - loss: 0.3597 - accuracy: 0.8466\n",
            "Epoch 125/300\n",
            "23/23 [==============================] - 0s 2ms/step - loss: 0.3499 - accuracy: 0.8550\n",
            "Epoch 126/300\n",
            "23/23 [==============================] - 0s 2ms/step - loss: 0.3453 - accuracy: 0.8508\n",
            "Epoch 127/300\n",
            "23/23 [==============================] - 0s 2ms/step - loss: 0.3430 - accuracy: 0.8522\n",
            "Epoch 128/300\n",
            "23/23 [==============================] - 0s 2ms/step - loss: 0.3502 - accuracy: 0.8424\n",
            "Epoch 129/300\n",
            "23/23 [==============================] - 0s 2ms/step - loss: 0.3498 - accuracy: 0.8452\n",
            "Epoch 130/300\n",
            "23/23 [==============================] - 0s 2ms/step - loss: 0.3466 - accuracy: 0.8563\n",
            "Epoch 131/300\n",
            "23/23 [==============================] - 0s 2ms/step - loss: 0.3421 - accuracy: 0.8494\n",
            "Epoch 132/300\n",
            "23/23 [==============================] - 0s 2ms/step - loss: 0.3485 - accuracy: 0.8550\n",
            "Epoch 133/300\n",
            "23/23 [==============================] - 0s 2ms/step - loss: 0.3670 - accuracy: 0.8396\n",
            "Epoch 134/300\n",
            "23/23 [==============================] - 0s 2ms/step - loss: 0.3851 - accuracy: 0.8354\n",
            "Epoch 135/300\n",
            "23/23 [==============================] - 0s 2ms/step - loss: 0.3715 - accuracy: 0.8271\n",
            "Epoch 136/300\n",
            "23/23 [==============================] - 0s 2ms/step - loss: 0.3609 - accuracy: 0.8494\n",
            "Epoch 137/300\n",
            "23/23 [==============================] - 0s 2ms/step - loss: 0.3460 - accuracy: 0.8494\n",
            "Epoch 138/300\n",
            "23/23 [==============================] - 0s 2ms/step - loss: 0.3487 - accuracy: 0.8410\n",
            "Epoch 139/300\n",
            "23/23 [==============================] - 0s 2ms/step - loss: 0.3454 - accuracy: 0.8536\n",
            "Epoch 140/300\n",
            "23/23 [==============================] - 0s 2ms/step - loss: 0.3450 - accuracy: 0.8647\n",
            "Epoch 141/300\n",
            "23/23 [==============================] - 0s 2ms/step - loss: 0.3469 - accuracy: 0.8452\n",
            "Epoch 142/300\n",
            "23/23 [==============================] - 0s 2ms/step - loss: 0.3433 - accuracy: 0.8480\n",
            "Epoch 143/300\n",
            "23/23 [==============================] - 0s 2ms/step - loss: 0.3388 - accuracy: 0.8494\n",
            "Epoch 144/300\n",
            "23/23 [==============================] - 0s 2ms/step - loss: 0.3608 - accuracy: 0.8424\n",
            "Epoch 145/300\n",
            "23/23 [==============================] - 0s 2ms/step - loss: 0.3623 - accuracy: 0.8438\n",
            "Epoch 146/300\n",
            "23/23 [==============================] - 0s 2ms/step - loss: 0.3475 - accuracy: 0.8563\n",
            "Epoch 147/300\n",
            "23/23 [==============================] - 0s 2ms/step - loss: 0.3440 - accuracy: 0.8522\n",
            "Epoch 148/300\n",
            "23/23 [==============================] - 0s 2ms/step - loss: 0.3537 - accuracy: 0.8438\n",
            "Epoch 149/300\n",
            "23/23 [==============================] - 0s 2ms/step - loss: 0.3548 - accuracy: 0.8452\n",
            "Epoch 150/300\n",
            "23/23 [==============================] - 0s 2ms/step - loss: 0.3492 - accuracy: 0.8536\n",
            "Epoch 151/300\n",
            "23/23 [==============================] - 0s 2ms/step - loss: 0.3819 - accuracy: 0.8326\n",
            "Epoch 152/300\n",
            "23/23 [==============================] - 0s 2ms/step - loss: 0.3758 - accuracy: 0.8410\n",
            "Epoch 153/300\n",
            "23/23 [==============================] - 0s 2ms/step - loss: 0.3552 - accuracy: 0.8410\n",
            "Epoch 154/300\n",
            "23/23 [==============================] - 0s 2ms/step - loss: 0.3744 - accuracy: 0.8438\n",
            "Epoch 155/300\n",
            "23/23 [==============================] - 0s 2ms/step - loss: 0.3839 - accuracy: 0.8131\n",
            "Epoch 156/300\n",
            "23/23 [==============================] - 0s 2ms/step - loss: 0.4703 - accuracy: 0.7950\n",
            "Epoch 157/300\n",
            "23/23 [==============================] - 0s 2ms/step - loss: 0.3904 - accuracy: 0.8382\n",
            "Epoch 158/300\n",
            "23/23 [==============================] - 0s 2ms/step - loss: 0.3795 - accuracy: 0.8396\n",
            "Epoch 159/300\n",
            "23/23 [==============================] - 0s 2ms/step - loss: 0.3822 - accuracy: 0.8424\n",
            "Epoch 160/300\n",
            "23/23 [==============================] - 0s 3ms/step - loss: 0.3773 - accuracy: 0.8298\n",
            "Epoch 161/300\n",
            "23/23 [==============================] - 0s 2ms/step - loss: 0.3524 - accuracy: 0.8466\n",
            "Epoch 162/300\n",
            "23/23 [==============================] - 0s 2ms/step - loss: 0.3638 - accuracy: 0.8438\n",
            "Epoch 163/300\n",
            "23/23 [==============================] - 0s 2ms/step - loss: 0.3581 - accuracy: 0.8494\n",
            "Epoch 164/300\n",
            "23/23 [==============================] - 0s 2ms/step - loss: 0.3534 - accuracy: 0.8480\n",
            "Epoch 165/300\n",
            "23/23 [==============================] - 0s 2ms/step - loss: 0.3609 - accuracy: 0.8410\n",
            "Epoch 166/300\n",
            "23/23 [==============================] - 0s 2ms/step - loss: 0.3616 - accuracy: 0.8438\n",
            "Epoch 167/300\n",
            "23/23 [==============================] - 0s 2ms/step - loss: 0.3646 - accuracy: 0.8285\n",
            "Epoch 168/300\n",
            "23/23 [==============================] - 0s 3ms/step - loss: 0.3776 - accuracy: 0.8424\n",
            "Epoch 169/300\n",
            "23/23 [==============================] - 0s 2ms/step - loss: 0.3579 - accuracy: 0.8257\n",
            "Epoch 170/300\n",
            "23/23 [==============================] - 0s 2ms/step - loss: 0.3480 - accuracy: 0.8424\n",
            "Epoch 171/300\n",
            "23/23 [==============================] - 0s 2ms/step - loss: 0.3534 - accuracy: 0.8508\n",
            "Epoch 172/300\n",
            "23/23 [==============================] - 0s 2ms/step - loss: 0.3702 - accuracy: 0.8340\n",
            "Epoch 173/300\n",
            "23/23 [==============================] - 0s 2ms/step - loss: 0.3684 - accuracy: 0.8410\n",
            "Epoch 174/300\n",
            "23/23 [==============================] - 0s 2ms/step - loss: 0.3855 - accuracy: 0.8396\n",
            "Epoch 175/300\n",
            "23/23 [==============================] - 0s 2ms/step - loss: 0.3677 - accuracy: 0.8243\n",
            "Epoch 176/300\n",
            "23/23 [==============================] - 0s 2ms/step - loss: 0.3424 - accuracy: 0.8605\n",
            "Epoch 177/300\n",
            "23/23 [==============================] - 0s 2ms/step - loss: 0.3534 - accuracy: 0.8424\n",
            "Epoch 178/300\n",
            "23/23 [==============================] - 0s 2ms/step - loss: 0.3670 - accuracy: 0.8396\n",
            "Epoch 179/300\n",
            "23/23 [==============================] - 0s 2ms/step - loss: 0.3613 - accuracy: 0.8536\n",
            "Epoch 180/300\n",
            "23/23 [==============================] - 0s 2ms/step - loss: 0.3764 - accuracy: 0.8354\n",
            "Epoch 181/300\n",
            "23/23 [==============================] - 0s 2ms/step - loss: 0.3595 - accuracy: 0.8396\n",
            "Epoch 182/300\n",
            "23/23 [==============================] - 0s 2ms/step - loss: 0.3711 - accuracy: 0.8354\n",
            "Epoch 183/300\n",
            "23/23 [==============================] - 0s 2ms/step - loss: 0.3683 - accuracy: 0.8382\n",
            "Epoch 184/300\n",
            "23/23 [==============================] - 0s 2ms/step - loss: 0.3953 - accuracy: 0.8271\n",
            "Epoch 185/300\n",
            "23/23 [==============================] - 0s 2ms/step - loss: 0.3574 - accuracy: 0.8452\n",
            "Epoch 186/300\n",
            "23/23 [==============================] - 0s 2ms/step - loss: 0.3680 - accuracy: 0.8382\n",
            "Epoch 187/300\n",
            "23/23 [==============================] - 0s 2ms/step - loss: 0.3748 - accuracy: 0.8285\n",
            "Epoch 188/300\n",
            "23/23 [==============================] - 0s 2ms/step - loss: 0.3536 - accuracy: 0.8466\n",
            "Epoch 189/300\n",
            "23/23 [==============================] - 0s 2ms/step - loss: 0.3431 - accuracy: 0.8536\n",
            "Epoch 190/300\n",
            "23/23 [==============================] - 0s 2ms/step - loss: 0.3543 - accuracy: 0.8605\n",
            "Epoch 191/300\n",
            "23/23 [==============================] - 0s 2ms/step - loss: 0.3526 - accuracy: 0.8522\n",
            "Epoch 192/300\n",
            "23/23 [==============================] - 0s 2ms/step - loss: 0.3489 - accuracy: 0.8563\n",
            "Epoch 193/300\n",
            "23/23 [==============================] - 0s 2ms/step - loss: 0.3494 - accuracy: 0.8452\n",
            "Epoch 194/300\n",
            "23/23 [==============================] - 0s 2ms/step - loss: 0.3494 - accuracy: 0.8494\n",
            "Epoch 195/300\n",
            "23/23 [==============================] - 0s 2ms/step - loss: 0.3926 - accuracy: 0.8257\n",
            "Epoch 196/300\n",
            "23/23 [==============================] - 0s 2ms/step - loss: 0.3396 - accuracy: 0.8522\n",
            "Epoch 197/300\n",
            "23/23 [==============================] - 0s 2ms/step - loss: 0.3685 - accuracy: 0.8424\n",
            "Epoch 198/300\n",
            "23/23 [==============================] - 0s 2ms/step - loss: 0.3442 - accuracy: 0.8452\n",
            "Epoch 199/300\n",
            "23/23 [==============================] - 0s 2ms/step - loss: 0.3414 - accuracy: 0.8536\n",
            "Epoch 200/300\n",
            "23/23 [==============================] - 0s 2ms/step - loss: 0.3437 - accuracy: 0.8647\n",
            "Epoch 201/300\n",
            "23/23 [==============================] - 0s 2ms/step - loss: 0.3574 - accuracy: 0.8438\n",
            "Epoch 202/300\n",
            "23/23 [==============================] - 0s 2ms/step - loss: 0.3651 - accuracy: 0.8480\n",
            "Epoch 203/300\n",
            "23/23 [==============================] - 0s 2ms/step - loss: 0.3566 - accuracy: 0.8508\n",
            "Epoch 204/300\n",
            "23/23 [==============================] - 0s 3ms/step - loss: 0.3447 - accuracy: 0.8494\n",
            "Epoch 205/300\n",
            "23/23 [==============================] - 0s 2ms/step - loss: 0.3665 - accuracy: 0.8340\n",
            "Epoch 206/300\n",
            "23/23 [==============================] - 0s 2ms/step - loss: 0.3487 - accuracy: 0.8577\n",
            "Epoch 207/300\n",
            "23/23 [==============================] - 0s 2ms/step - loss: 0.3641 - accuracy: 0.8438\n",
            "Epoch 208/300\n",
            "23/23 [==============================] - 0s 2ms/step - loss: 0.3436 - accuracy: 0.8689\n",
            "Epoch 209/300\n",
            "23/23 [==============================] - 0s 2ms/step - loss: 0.3604 - accuracy: 0.8438\n",
            "Epoch 210/300\n",
            "23/23 [==============================] - 0s 2ms/step - loss: 0.3667 - accuracy: 0.8522\n",
            "Epoch 211/300\n",
            "23/23 [==============================] - 0s 2ms/step - loss: 0.3605 - accuracy: 0.8480\n",
            "Epoch 212/300\n",
            "23/23 [==============================] - 0s 2ms/step - loss: 0.4134 - accuracy: 0.8159\n",
            "Epoch 213/300\n",
            "23/23 [==============================] - 0s 3ms/step - loss: 0.3587 - accuracy: 0.8480\n",
            "Epoch 214/300\n",
            "23/23 [==============================] - 0s 2ms/step - loss: 0.3637 - accuracy: 0.8410\n",
            "Epoch 215/300\n",
            "23/23 [==============================] - 0s 2ms/step - loss: 0.3414 - accuracy: 0.8536\n",
            "Epoch 216/300\n",
            "23/23 [==============================] - 0s 2ms/step - loss: 0.3381 - accuracy: 0.8577\n",
            "Epoch 217/300\n",
            "23/23 [==============================] - 0s 2ms/step - loss: 0.3572 - accuracy: 0.8494\n",
            "Epoch 218/300\n",
            "23/23 [==============================] - 0s 2ms/step - loss: 0.3422 - accuracy: 0.8536\n",
            "Epoch 219/300\n",
            "23/23 [==============================] - 0s 2ms/step - loss: 0.3469 - accuracy: 0.8494\n",
            "Epoch 220/300\n",
            "23/23 [==============================] - 0s 3ms/step - loss: 0.3353 - accuracy: 0.8466\n",
            "Epoch 221/300\n",
            "23/23 [==============================] - 0s 2ms/step - loss: 0.3429 - accuracy: 0.8424\n",
            "Epoch 222/300\n",
            "23/23 [==============================] - 0s 2ms/step - loss: 0.3942 - accuracy: 0.8187\n",
            "Epoch 223/300\n",
            "23/23 [==============================] - 0s 2ms/step - loss: 0.3657 - accuracy: 0.8396\n",
            "Epoch 224/300\n",
            "23/23 [==============================] - 0s 2ms/step - loss: 0.3518 - accuracy: 0.8563\n",
            "Epoch 225/300\n",
            "23/23 [==============================] - 0s 3ms/step - loss: 0.3480 - accuracy: 0.8522\n",
            "Epoch 226/300\n",
            "23/23 [==============================] - 0s 2ms/step - loss: 0.3531 - accuracy: 0.8522\n",
            "Epoch 227/300\n",
            "23/23 [==============================] - 0s 2ms/step - loss: 0.3416 - accuracy: 0.8382\n",
            "Epoch 228/300\n",
            "23/23 [==============================] - 0s 2ms/step - loss: 0.3401 - accuracy: 0.8424\n",
            "Epoch 229/300\n",
            "23/23 [==============================] - 0s 2ms/step - loss: 0.3683 - accuracy: 0.8354\n",
            "Epoch 230/300\n",
            "23/23 [==============================] - 0s 2ms/step - loss: 0.3603 - accuracy: 0.8354\n",
            "Epoch 231/300\n",
            "23/23 [==============================] - 0s 3ms/step - loss: 0.3588 - accuracy: 0.8452\n",
            "Epoch 232/300\n",
            "23/23 [==============================] - 0s 2ms/step - loss: 0.3477 - accuracy: 0.8494\n",
            "Epoch 233/300\n",
            "23/23 [==============================] - 0s 2ms/step - loss: 0.3695 - accuracy: 0.8424\n",
            "Epoch 234/300\n",
            "23/23 [==============================] - 0s 2ms/step - loss: 0.3566 - accuracy: 0.8410\n",
            "Epoch 235/300\n",
            "23/23 [==============================] - 0s 2ms/step - loss: 0.3404 - accuracy: 0.8522\n",
            "Epoch 236/300\n",
            "23/23 [==============================] - 0s 2ms/step - loss: 0.3472 - accuracy: 0.8550\n",
            "Epoch 237/300\n",
            "23/23 [==============================] - 0s 2ms/step - loss: 0.3666 - accuracy: 0.8563\n",
            "Epoch 238/300\n",
            "23/23 [==============================] - 0s 2ms/step - loss: 0.3410 - accuracy: 0.8382\n",
            "Epoch 239/300\n",
            "23/23 [==============================] - 0s 2ms/step - loss: 0.4575 - accuracy: 0.8075\n",
            "Epoch 240/300\n",
            "23/23 [==============================] - 0s 2ms/step - loss: 0.3552 - accuracy: 0.8605\n",
            "Epoch 241/300\n",
            "23/23 [==============================] - 0s 2ms/step - loss: 0.3466 - accuracy: 0.8522\n",
            "Epoch 242/300\n",
            "23/23 [==============================] - 0s 3ms/step - loss: 0.3492 - accuracy: 0.8480\n",
            "Epoch 243/300\n",
            "23/23 [==============================] - 0s 2ms/step - loss: 0.3500 - accuracy: 0.8466\n",
            "Epoch 244/300\n",
            "23/23 [==============================] - 0s 2ms/step - loss: 0.3458 - accuracy: 0.8563\n",
            "Epoch 245/300\n",
            "23/23 [==============================] - 0s 2ms/step - loss: 0.3755 - accuracy: 0.8229\n",
            "Epoch 246/300\n",
            "23/23 [==============================] - 0s 2ms/step - loss: 0.3441 - accuracy: 0.8452\n",
            "Epoch 247/300\n",
            "23/23 [==============================] - 0s 2ms/step - loss: 0.3582 - accuracy: 0.8605\n",
            "Epoch 248/300\n",
            "23/23 [==============================] - 0s 3ms/step - loss: 0.3705 - accuracy: 0.8452\n",
            "Epoch 249/300\n",
            "23/23 [==============================] - 0s 2ms/step - loss: 0.3572 - accuracy: 0.8536\n",
            "Epoch 250/300\n",
            "23/23 [==============================] - 0s 2ms/step - loss: 0.3850 - accuracy: 0.8312\n",
            "Epoch 251/300\n",
            "23/23 [==============================] - 0s 2ms/step - loss: 0.3781 - accuracy: 0.8312\n",
            "Epoch 252/300\n",
            "23/23 [==============================] - 0s 2ms/step - loss: 0.3587 - accuracy: 0.8494\n",
            "Epoch 253/300\n",
            "23/23 [==============================] - 0s 2ms/step - loss: 0.3507 - accuracy: 0.8424\n",
            "Epoch 254/300\n",
            "23/23 [==============================] - 0s 2ms/step - loss: 0.3467 - accuracy: 0.8452\n",
            "Epoch 255/300\n",
            "23/23 [==============================] - 0s 2ms/step - loss: 0.3431 - accuracy: 0.8619\n",
            "Epoch 256/300\n",
            "23/23 [==============================] - 0s 2ms/step - loss: 0.3421 - accuracy: 0.8563\n",
            "Epoch 257/300\n",
            "23/23 [==============================] - 0s 2ms/step - loss: 0.3427 - accuracy: 0.8396\n",
            "Epoch 258/300\n",
            "23/23 [==============================] - 0s 2ms/step - loss: 0.3510 - accuracy: 0.8452\n",
            "Epoch 259/300\n",
            "23/23 [==============================] - 0s 2ms/step - loss: 0.3452 - accuracy: 0.8536\n",
            "Epoch 260/300\n",
            "23/23 [==============================] - 0s 2ms/step - loss: 0.3752 - accuracy: 0.8326\n",
            "Epoch 261/300\n",
            "23/23 [==============================] - 0s 2ms/step - loss: 0.3368 - accuracy: 0.8605\n",
            "Epoch 262/300\n",
            "23/23 [==============================] - 0s 2ms/step - loss: 0.3429 - accuracy: 0.8494\n",
            "Epoch 263/300\n",
            "23/23 [==============================] - 0s 2ms/step - loss: 0.3735 - accuracy: 0.8340\n",
            "Epoch 264/300\n",
            "23/23 [==============================] - 0s 2ms/step - loss: 0.4791 - accuracy: 0.7894\n",
            "Epoch 265/300\n",
            "23/23 [==============================] - 0s 2ms/step - loss: 0.3733 - accuracy: 0.8340\n",
            "Epoch 266/300\n",
            "23/23 [==============================] - 0s 3ms/step - loss: 0.3791 - accuracy: 0.8480\n",
            "Epoch 267/300\n",
            "23/23 [==============================] - 0s 2ms/step - loss: 0.3487 - accuracy: 0.8550\n",
            "Epoch 268/300\n",
            "23/23 [==============================] - 0s 2ms/step - loss: 0.3405 - accuracy: 0.8550\n",
            "Epoch 269/300\n",
            "23/23 [==============================] - 0s 2ms/step - loss: 0.3566 - accuracy: 0.8368\n",
            "Epoch 270/300\n",
            "23/23 [==============================] - 0s 2ms/step - loss: 0.3515 - accuracy: 0.8536\n",
            "Epoch 271/300\n",
            "23/23 [==============================] - 0s 2ms/step - loss: 0.3377 - accuracy: 0.8591\n",
            "Epoch 272/300\n",
            "23/23 [==============================] - 0s 2ms/step - loss: 0.3424 - accuracy: 0.8466\n",
            "Epoch 273/300\n",
            "23/23 [==============================] - 0s 2ms/step - loss: 0.3582 - accuracy: 0.8494\n",
            "Epoch 274/300\n",
            "23/23 [==============================] - 0s 2ms/step - loss: 0.3496 - accuracy: 0.8480\n",
            "Epoch 275/300\n",
            "23/23 [==============================] - 0s 2ms/step - loss: 0.4091 - accuracy: 0.8298\n",
            "Epoch 276/300\n",
            "23/23 [==============================] - 0s 2ms/step - loss: 0.3675 - accuracy: 0.8410\n",
            "Epoch 277/300\n",
            "23/23 [==============================] - 0s 2ms/step - loss: 0.3418 - accuracy: 0.8563\n",
            "Epoch 278/300\n",
            "23/23 [==============================] - 0s 2ms/step - loss: 0.3494 - accuracy: 0.8452\n",
            "Epoch 279/300\n",
            "23/23 [==============================] - 0s 2ms/step - loss: 0.3518 - accuracy: 0.8591\n",
            "Epoch 280/300\n",
            "23/23 [==============================] - 0s 2ms/step - loss: 0.3622 - accuracy: 0.8340\n",
            "Epoch 281/300\n",
            "23/23 [==============================] - 0s 2ms/step - loss: 0.3614 - accuracy: 0.8494\n",
            "Epoch 282/300\n",
            "23/23 [==============================] - 0s 2ms/step - loss: 0.3459 - accuracy: 0.8438\n",
            "Epoch 283/300\n",
            "23/23 [==============================] - 0s 2ms/step - loss: 0.3538 - accuracy: 0.8452\n",
            "Epoch 284/300\n",
            "23/23 [==============================] - 0s 2ms/step - loss: 0.3531 - accuracy: 0.8522\n",
            "Epoch 285/300\n",
            "23/23 [==============================] - 0s 2ms/step - loss: 0.3391 - accuracy: 0.8550\n",
            "Epoch 286/300\n",
            "23/23 [==============================] - 0s 2ms/step - loss: 0.3601 - accuracy: 0.8452\n",
            "Epoch 287/300\n",
            "23/23 [==============================] - 0s 2ms/step - loss: 0.3323 - accuracy: 0.8591\n",
            "Epoch 288/300\n",
            "23/23 [==============================] - 0s 2ms/step - loss: 0.3538 - accuracy: 0.8466\n",
            "Epoch 289/300\n",
            "23/23 [==============================] - 0s 2ms/step - loss: 0.3472 - accuracy: 0.8494\n",
            "Epoch 290/300\n",
            "23/23 [==============================] - 0s 2ms/step - loss: 0.3526 - accuracy: 0.8452\n",
            "Epoch 291/300\n",
            "23/23 [==============================] - 0s 2ms/step - loss: 0.3454 - accuracy: 0.8508\n",
            "Epoch 292/300\n",
            "23/23 [==============================] - 0s 2ms/step - loss: 0.3432 - accuracy: 0.8577\n",
            "Epoch 293/300\n",
            "23/23 [==============================] - 0s 2ms/step - loss: 0.3547 - accuracy: 0.8424\n",
            "Epoch 294/300\n",
            "23/23 [==============================] - 0s 2ms/step - loss: 0.3602 - accuracy: 0.8452\n",
            "Epoch 295/300\n",
            "23/23 [==============================] - 0s 2ms/step - loss: 0.3468 - accuracy: 0.8438\n",
            "Epoch 296/300\n",
            "23/23 [==============================] - 0s 2ms/step - loss: 0.3550 - accuracy: 0.8396\n",
            "Epoch 297/300\n",
            "23/23 [==============================] - 0s 2ms/step - loss: 0.3440 - accuracy: 0.8494\n",
            "Epoch 298/300\n",
            "23/23 [==============================] - 0s 2ms/step - loss: 0.3656 - accuracy: 0.8354\n",
            "Epoch 299/300\n",
            "23/23 [==============================] - 0s 2ms/step - loss: 0.3907 - accuracy: 0.8243\n",
            "Epoch 300/300\n",
            "23/23 [==============================] - 0s 2ms/step - loss: 0.3366 - accuracy: 0.8508\n"
          ]
        },
        {
          "output_type": "execute_result",
          "data": {
            "text/plain": [
              "<keras.callbacks.History at 0x7fa585bb56d0>"
            ]
          },
          "metadata": {},
          "execution_count": 60
        }
      ]
    },
    {
      "cell_type": "code",
      "source": [
        "Y_pred_nn = model.predict(X_test)"
      ],
      "metadata": {
        "colab": {
          "base_uri": "https://localhost:8080/"
        },
        "id": "sOYOx1XI-VFC",
        "outputId": "ee3b1f15-f5ca-451a-d4cd-bfdfc8c7f8a0"
      },
      "execution_count": 61,
      "outputs": [
        {
          "output_type": "stream",
          "name": "stdout",
          "text": [
            "10/10 [==============================] - 0s 2ms/step\n"
          ]
        }
      ]
    },
    {
      "cell_type": "code",
      "source": [
        "Y_pred_nn.shape"
      ],
      "metadata": {
        "colab": {
          "base_uri": "https://localhost:8080/"
        },
        "id": "-Id6u9Ca-XWs",
        "outputId": "be862b64-782f-4626-d1f2-425297cd7c64"
      },
      "execution_count": 62,
      "outputs": [
        {
          "output_type": "execute_result",
          "data": {
            "text/plain": [
              "(308, 1)"
            ]
          },
          "metadata": {},
          "execution_count": 62
        }
      ]
    },
    {
      "cell_type": "code",
      "source": [
        "rounded = [round(x[0]) for x in Y_pred_nn]\n",
        "\n",
        "Y_pred_nn = rounded"
      ],
      "metadata": {
        "id": "cTj1TrMi-bPZ"
      },
      "execution_count": 63,
      "outputs": []
    },
    {
      "cell_type": "code",
      "source": [
        "score_nn = round(accuracy_score(Y_pred_nn,Y_test)*100,2)\n",
        "\n",
        "print(\"The accuracy score achieved using Neural Network is: \"+str(score_nn)+\" %\")\n",
        "\n",
        "#Note: Accuracy of 85% can be achieved on the test set, by setting epochs=2000, and number of nodes = 11."
      ],
      "metadata": {
        "colab": {
          "base_uri": "https://localhost:8080/"
        },
        "id": "qqvIU5jJ-eKC",
        "outputId": "2be36f4d-363d-4890-d198-94f5f3f0c186"
      },
      "execution_count": 64,
      "outputs": [
        {
          "output_type": "stream",
          "name": "stdout",
          "text": [
            "The accuracy score achieved using Neural Network is: 81.17 %\n"
          ]
        }
      ]
    },
    {
      "cell_type": "code",
      "source": [
        "from sklearn.metrics import confusion_matrix\n",
        "confusion_matrix= confusion_matrix(Y_test,Y_pred_nn)\n",
        "\n",
        "confusion_matrix"
      ],
      "metadata": {
        "colab": {
          "base_uri": "https://localhost:8080/"
        },
        "id": "XiFnH8f79hzu",
        "outputId": "fe59e83d-c3d3-413b-cff0-9cc77dfedbba"
      },
      "execution_count": 65,
      "outputs": [
        {
          "output_type": "execute_result",
          "data": {
            "text/plain": [
              "array([[123,  38],\n",
              "       [ 20, 127]])"
            ]
          },
          "metadata": {},
          "execution_count": 65
        }
      ]
    },
    {
      "cell_type": "code",
      "source": [
        "actual = Y_test\n",
        "predicted = Y_pred_nn\n",
        "\n",
        "confusion_matrix = metrics.confusion_matrix(actual, predicted)\n",
        "\n",
        "cm_display = metrics.ConfusionMatrixDisplay(confusion_matrix = confusion_matrix, display_labels = [True, False])\n",
        "\n",
        "cm_display.plot()\n",
        "plt.show()"
      ],
      "metadata": {
        "colab": {
          "base_uri": "https://localhost:8080/",
          "height": 279
        },
        "id": "rL6zO9e39h4v",
        "outputId": "dcf28256-dd02-4e1a-fe7a-15c05ca3096c"
      },
      "execution_count": 66,
      "outputs": [
        {
          "output_type": "display_data",
          "data": {
            "text/plain": [
              "<Figure size 432x288 with 2 Axes>"
            ],
            "image/png": "[encoded data removed]"
          },
          "metadata": {
            "needs_background": "light"
          }
        }
      ]
    },
    {
      "cell_type": "code",
      "source": [
        "from sklearn.metrics import classification_report\n",
        "\n",
        "print(classification_report(Y_test,Y_pred_nn))"
      ],
      "metadata": {
        "colab": {
          "base_uri": "https://localhost:8080/"
        },
        "id": "G3Gw0-QW9h-a",
        "outputId": "a4d249bf-4fc8-4174-db5c-5354b1b1b35e"
      },
      "execution_count": 67,
      "outputs": [
        {
          "output_type": "stream",
          "name": "stdout",
          "text": [
            "              precision    recall  f1-score   support\n",
            "\n",
            "           0       0.86      0.76      0.81       161\n",
            "           1       0.77      0.86      0.81       147\n",
            "\n",
            "    accuracy                           0.81       308\n",
            "   macro avg       0.81      0.81      0.81       308\n",
            "weighted avg       0.82      0.81      0.81       308\n",
            "\n"
          ]
        }
      ]
    },
    {
      "cell_type": "code",
      "source": [
        "scores = [score_lr, score_dt,score_rf, score_nn]\n",
        "algorithms = [\"Logistic Regression\",\"Decision Tree\",\"Random Forest\",\"Neural Network\"]    \n",
        "\n",
        "for i in range(len(algorithms)):\n",
        "    print(\"The accuracy score achieved using \"+algorithms[i]+\" is: \"+str(scores[i])+\" %\")"
      ],
      "metadata": {
        "colab": {
          "base_uri": "https://localhost:8080/"
        },
        "id": "e50kwe4u-zua",
        "outputId": "926445a9-70f8-4539-af91-2b16d8d8718a"
      },
      "execution_count": 68,
      "outputs": [
        {
          "output_type": "stream",
          "name": "stdout",
          "text": [
            "The accuracy score achieved using Logistic Regression is: 82.47 %\n",
            "The accuracy score achieved using Decision Tree is: 99.03 %\n",
            "The accuracy score achieved using Random Forest is: 100.0 %\n",
            "The accuracy score achieved using Neural Network is: 81.17 %\n"
          ]
        }
      ]
    },
    {
      "cell_type": "code",
      "source": [
        "sns.set(rc={'figure.figsize':(10,8)})\n",
        "dataset_corr = dataset.corr()\n",
        "dataset_corr\n",
        "\n",
        "import seaborn as sns\n",
        "\n",
        "sns.heatmap(dataset_corr, cmap = 'YlGnBu')"
      ],
      "metadata": {
        "colab": {
          "base_uri": "https://localhost:8080/",
          "height": 542
        },
        "id": "y4uRGL6tjlcW",
        "outputId": "6dd74252-16b6-429f-fc32-d43b7d8bfd8e"
      },
      "execution_count": 69,
      "outputs": [
        {
          "output_type": "execute_result",
          "data": {
            "text/plain": [
              "<matplotlib.axes._subplots.AxesSubplot at 0x7fa585af3cd0>"
            ]
          },
          "metadata": {},
          "execution_count": 69
        },
        {
          "output_type": "display_data",
          "data": {
            "text/plain": [
              "<Figure size 720x576 with 2 Axes>"
            ],
            "image/png": "[encoded data removed]"
          },
          "metadata": {}
        }
      ]
    },
    {
      "cell_type": "code",
      "source": [
        "sns.set(rc={'figure.figsize':(10,8)})\n",
        "plt.xlabel(\"Algorithms\")\n",
        "plt.ylabel(\"Accuracy score\")\n",
        "\n",
        "sns.barplot(algorithms,scores)"
      ],
      "metadata": {
        "colab": {
          "base_uri": "https://localhost:8080/",
          "height": 519
        },
        "id": "IPkeaqX5n_QM",
        "outputId": "7565fd86-3e8f-481e-811b-bf1ee10e90db"
      },
      "execution_count": 70,
      "outputs": [
        {
          "output_type": "execute_result",
          "data": {
            "text/plain": [
              "<matplotlib.axes._subplots.AxesSubplot at 0x7fa585a2c220>"
            ]
          },
          "metadata": {},
          "execution_count": 70
        },
        {
          "output_type": "display_data",
          "data": {
            "text/plain": [
              "<Figure size 720x576 with 1 Axes>"
            ],
            "image/png": "[encoded data removed]"
          },
          "metadata": {}
        }
      ]
    }
  ]
}